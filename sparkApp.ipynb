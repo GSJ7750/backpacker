{
 "cells": [
  {
   "cell_type": "code",
   "execution_count": 1,
   "id": "35f36caf-8e4e-47d5-9369-e5ff2e227384",
   "metadata": {},
   "outputs": [],
   "source": [
    "from pyspark.sql import SparkSession, DataFrame, Window\n",
    "from pyspark.sql import functions as F\n",
    "from pyspark.sql.types import *"
   ]
  },
  {
   "cell_type": "code",
   "execution_count": 2,
   "id": "08b76715-21de-4db4-9a63-c3392bfdb450",
   "metadata": {},
   "outputs": [
    {
     "name": "stderr",
     "output_type": "stream",
     "text": [
      "WARNING: An illegal reflective access operation has occurred\n",
      "WARNING: Illegal reflective access by org.apache.spark.unsafe.Platform (file:/usr/local/spark-3.2.0-bin-hadoop3.2/jars/spark-unsafe_2.12-3.2.0.jar) to constructor java.nio.DirectByteBuffer(long,int)\n",
      "WARNING: Please consider reporting this to the maintainers of org.apache.spark.unsafe.Platform\n",
      "WARNING: Use --illegal-access=warn to enable warnings of further illegal reflective access operations\n",
      "WARNING: All illegal access operations will be denied in a future release\n",
      "Using Spark's default log4j profile: org/apache/spark/log4j-defaults.properties\n",
      "Setting default log level to \"WARN\".\n",
      "To adjust logging level use sc.setLogLevel(newLevel). For SparkR, use setLogLevel(newLevel).\n",
      "21/11/11 11:19:59 WARN NativeCodeLoader: Unable to load native-hadoop library for your platform... using builtin-java classes where applicable\n"
     ]
    }
   ],
   "source": [
    "spark = SparkSession.builder.master(\"local\").appName(\"SparkSQL\").getOrCreate()"
   ]
  },
  {
   "cell_type": "code",
   "execution_count": 3,
   "id": "c96fd1b6-9ba3-497d-ab64-7524fad6c199",
   "metadata": {},
   "outputs": [],
   "source": [
    "spark.sparkContext.setLogLevel(\"ERROR\")"
   ]
  },
  {
   "cell_type": "code",
   "execution_count": 4,
   "id": "92196675-c3eb-4d85-8883-9faa2f487ebe",
   "metadata": {},
   "outputs": [],
   "source": [
    "schema = StructType(\n",
    "    [\n",
    "        StructField('event_time_UTC', StringType()),\n",
    "        StructField('event_type', StringType()),\n",
    "        StructField('product_id', StringType()),\n",
    "        StructField('category_id', StringType()),\n",
    "        StructField('category_code', StringType()),\n",
    "        StructField('brand', StringType()),\n",
    "        StructField('price', StringType()),\n",
    "        StructField('user_id', StringType()),\n",
    "        StructField('user_session', StringType()),\n",
    "    ]\n",
    ")"
   ]
  },
  {
   "cell_type": "code",
   "execution_count": 5,
   "id": "0669fc25-35c4-497a-a2bc-b9fbbea928ae",
   "metadata": {},
   "outputs": [],
   "source": [
    "df = spark.read.option(\"header\",True).schema(schema).csv(\"./2019-Nov.csv\")#.limit(10000)"
   ]
  },
  {
   "cell_type": "code",
   "execution_count": 6,
   "id": "0100f0bc-4072-4724-950c-0ac7d44cff1a",
   "metadata": {},
   "outputs": [
    {
     "name": "stdout",
     "output_type": "stream",
     "text": [
      "+-----------------------+----------+----------+-------------------+--------------------------------+--------+------+---------+------------------------------------+\n",
      "|event_time_UTC         |event_type|product_id|category_id        |category_code                   |brand   |price |user_id  |user_session                        |\n",
      "+-----------------------+----------+----------+-------------------+--------------------------------+--------+------+---------+------------------------------------+\n",
      "|2019-11-01 00:00:00 UTC|view      |1003461   |2053013555631882655|electronics.smartphone          |xiaomi  |489.07|520088904|4d3b30da-a5e4-49df-b1a8-ba5943f1dd33|\n",
      "|2019-11-01 00:00:00 UTC|view      |5000088   |2053013566100866035|appliances.sewing_machine       |janome  |293.65|530496790|8e5f4f83-366c-4f70-860e-ca7417414283|\n",
      "|2019-11-01 00:00:01 UTC|view      |17302664  |2053013553853497655|null                            |creed   |28.31 |561587266|755422e7-9040-477b-9bd2-6a6e8fd97387|\n",
      "|2019-11-01 00:00:01 UTC|view      |3601530   |2053013563810775923|appliances.kitchen.washer       |lg      |712.87|518085591|3bfb58cd-7892-48cc-8020-2f17e6de6e7f|\n",
      "|2019-11-01 00:00:01 UTC|view      |1004775   |2053013555631882655|electronics.smartphone          |xiaomi  |183.27|558856683|313628f1-68b8-460d-84f6-cec7a8796ef2|\n",
      "|2019-11-01 00:00:01 UTC|view      |1306894   |2053013558920217191|computers.notebook              |hp      |360.09|520772685|816a59f3-f5ae-4ccd-9b23-82aa8c23d33c|\n",
      "|2019-11-01 00:00:01 UTC|view      |1306421   |2053013558920217191|computers.notebook              |hp      |514.56|514028527|df8184cc-3694-4549-8c8c-6b5171877376|\n",
      "|2019-11-01 00:00:02 UTC|view      |15900065  |2053013558190408249|null                            |rondell |30.86 |518574284|5e6ef132-4d7c-4730-8c7f-85aa4082588f|\n",
      "|2019-11-01 00:00:02 UTC|view      |12708937  |2053013553559896355|null                            |michelin|72.72 |532364121|0a899268-31eb-46de-898d-09b2da950b24|\n",
      "|2019-11-01 00:00:02 UTC|view      |1004258   |2053013555631882655|electronics.smartphone          |apple   |732.07|532647354|d2d3d2c6-631d-489e-9fb5-06f340b85be0|\n",
      "|2019-11-01 00:00:03 UTC|view      |17200570  |2053013559792632471|furniture.living_room.sofa      |null    |437.33|518780843|aa806835-b14c-45af-9538-cd4d1849be3e|\n",
      "|2019-11-01 00:00:03 UTC|view      |2701517   |2053013563911439225|appliances.kitchen.refrigerators|null    |155.11|518427361|c89b0d96-247f-4044-9c91-bb5f38c6af9b|\n",
      "|2019-11-01 00:00:03 UTC|view      |16700260  |2053013559901684381|furniture.kitchen.chair         |null    |31.64 |566255262|173d7b72-1db7-4638-8207-be8148bf3c9f|\n",
      "|2019-11-01 00:00:04 UTC|view      |34600011  |2060981320581906480|null                            |null    |20.54 |512416379|4dfe2c67-e537-4dc2-ae69-0b65263db091|\n",
      "|2019-11-01 00:00:05 UTC|view      |4600658   |2053013563944993659|appliances.kitchen.dishwasher   |samsung |411.83|526595547|aab33a9a-29c3-4d50-84c1-8a2bc9256104|\n",
      "|2019-11-01 00:00:06 UTC|view      |24900193  |2053013562183385881|null                            |null    |1.09  |512651494|f603c815-f51a-46fe-9404-cb586e35edaf|\n",
      "|2019-11-01 00:00:07 UTC|view      |27400066  |2053013563391345499|null                            |null    |8.55  |551061950|3f6112f1-5695-4e88-bb0a-49f9e36658ff|\n",
      "|2019-11-01 00:00:07 UTC|view      |5100503   |2053013553375346967|null                            |xiaomi  |22.68 |520037415|f54fa96a-f3f2-43ac-99a4-fcb2a449dd36|\n",
      "|2019-11-01 00:00:07 UTC|view      |1004566   |2053013555631882655|electronics.smartphone          |huawei  |164.84|566265908|52c2c76c-b79e-4794-86ff-badc76d35f5a|\n",
      "|2019-11-01 00:00:08 UTC|view      |1307115   |2053013558920217191|computers.notebook              |hp      |411.59|514028527|df8184cc-3694-4549-8c8c-6b5171877376|\n",
      "+-----------------------+----------+----------+-------------------+--------------------------------+--------+------+---------+------------------------------------+\n",
      "only showing top 20 rows\n",
      "\n"
     ]
    },
    {
     "name": "stderr",
     "output_type": "stream",
     "text": [
      "                                                                                \r"
     ]
    }
   ],
   "source": [
    "df.show(truncate=False)"
   ]
  },
  {
   "cell_type": "code",
   "execution_count": 7,
   "id": "2ecf9233-442f-4102-9b32-48788852ed90",
   "metadata": {},
   "outputs": [
    {
     "name": "stdout",
     "output_type": "stream",
     "text": [
      "root\n",
      " |-- event_time_UTC: string (nullable = true)\n",
      " |-- event_type: string (nullable = true)\n",
      " |-- product_id: string (nullable = true)\n",
      " |-- category_id: string (nullable = true)\n",
      " |-- category_code: string (nullable = true)\n",
      " |-- brand: string (nullable = true)\n",
      " |-- price: string (nullable = true)\n",
      " |-- user_id: string (nullable = true)\n",
      " |-- user_session: string (nullable = true)\n",
      "\n"
     ]
    }
   ],
   "source": [
    "df.printSchema()"
   ]
  },
  {
   "cell_type": "code",
   "execution_count": 8,
   "id": "595c1d62-1bfc-4fa9-98ae-58b5c9b05f09",
   "metadata": {},
   "outputs": [
    {
     "data": {
      "text/plain": [
       "[Row(event_time_UTC='2019-11-01 00:00:00 UTC', event_type='view', product_id='1003461', category_id='2053013555631882655', category_code='electronics.smartphone', brand='xiaomi', price='489.07', user_id='520088904', user_session='4d3b30da-a5e4-49df-b1a8-ba5943f1dd33'),\n",
       " Row(event_time_UTC='2019-11-01 00:00:00 UTC', event_type='view', product_id='5000088', category_id='2053013566100866035', category_code='appliances.sewing_machine', brand='janome', price='293.65', user_id='530496790', user_session='8e5f4f83-366c-4f70-860e-ca7417414283'),\n",
       " Row(event_time_UTC='2019-11-01 00:00:01 UTC', event_type='view', product_id='17302664', category_id='2053013553853497655', category_code=None, brand='creed', price='28.31', user_id='561587266', user_session='755422e7-9040-477b-9bd2-6a6e8fd97387'),\n",
       " Row(event_time_UTC='2019-11-01 00:00:01 UTC', event_type='view', product_id='3601530', category_id='2053013563810775923', category_code='appliances.kitchen.washer', brand='lg', price='712.87', user_id='518085591', user_session='3bfb58cd-7892-48cc-8020-2f17e6de6e7f'),\n",
       " Row(event_time_UTC='2019-11-01 00:00:01 UTC', event_type='view', product_id='1004775', category_id='2053013555631882655', category_code='electronics.smartphone', brand='xiaomi', price='183.27', user_id='558856683', user_session='313628f1-68b8-460d-84f6-cec7a8796ef2')]"
      ]
     },
     "execution_count": 8,
     "metadata": {},
     "output_type": "execute_result"
    }
   ],
   "source": [
    "df.head(5)"
   ]
  },
  {
   "cell_type": "code",
   "execution_count": 9,
   "id": "fb407c2d-bc16-4fe1-820a-6e24b7a0e5a2",
   "metadata": {},
   "outputs": [
    {
     "data": {
      "text/plain": [
       "[Row(event_time_UTC='2019-11-30 23:59:58 UTC', event_type='view', product_id='15700137', category_id='2053013559733912211', category_code=None, brand=None, price='277.74', user_id='532714000', user_session='02b4131c-0112-4231-aafa-ceaa08e77c1b'),\n",
       " Row(event_time_UTC='2019-11-30 23:59:58 UTC', event_type='view', product_id='28719425', category_id='2053013565639492569', category_code='apparel.shoes', brand='baden', price='62.81', user_id='545223467', user_session='734c5eef-0742-4f8b-9d22-48f75b0bc359'),\n",
       " Row(event_time_UTC='2019-11-30 23:59:59 UTC', event_type='view', product_id='1004833', category_id='2053013555631882655', category_code='electronics.smartphone', brand='samsung', price='167.03', user_id='557794415', user_session='6fecf566-ebb0-4e70-a243-cdc13ce044cb'),\n",
       " Row(event_time_UTC='2019-11-30 23:59:59 UTC', event_type='view', product_id='2701706', category_id='2053013563911439225', category_code='appliances.kitchen.refrigerators', brand='samsung', price='566.27', user_id='531607492', user_session='368ddc8b-5db9-40fb-b7ff-b6582a1192c0'),\n",
       " Row(event_time_UTC='2019-11-30 23:59:59 UTC', event_type='view', product_id='1004233', category_id='2053013555631882655', category_code='electronics.smartphone', brand='apple', price='1312.52', user_id='579969851', user_session='90aca71c-ed8a-4670-866a-761ebacb732d')]"
      ]
     },
     "execution_count": 9,
     "metadata": {},
     "output_type": "execute_result"
    }
   ],
   "source": [
    "df.tail(5)"
   ]
  },
  {
   "cell_type": "markdown",
   "id": "bea3ec8a-993b-4fa7-8ce5-34127ff78651",
   "metadata": {},
   "source": [
    "# 1. 해당 전체 기간에서, KST 기준으로 active user 수가 제일 큰 날짜를 구하세요"
   ]
  },
  {
   "cell_type": "code",
   "execution_count": 10,
   "id": "ac785e4f-286c-448f-b7bd-9431468c59a0",
   "metadata": {},
   "outputs": [],
   "source": [
    "df = df.withColumn('event_time', F.col('event_time_UTC')+F.expr(\"INTERVAL 9 HOURS\")).filter(F.month('event_time') == 11)"
   ]
  },
  {
   "cell_type": "code",
   "execution_count": 11,
   "id": "05afced8-dd64-4caa-9ace-875c2bd73436",
   "metadata": {},
   "outputs": [],
   "source": [
    "max_active = df.groupby(F.dayofmonth('event_time').alias('date')).agg(F.count_distinct('user_id').alias('u_count')).orderBy('u_count', ascending=False)"
   ]
  },
  {
   "cell_type": "code",
   "execution_count": 12,
   "id": "3ff3a5a8-76d1-4d44-89aa-e86b95fbdfa5",
   "metadata": {},
   "outputs": [
    {
     "name": "stderr",
     "output_type": "stream",
     "text": [
      "                                                                                \r"
     ]
    }
   ],
   "source": [
    "max_user = max_active.collect()"
   ]
  },
  {
   "cell_type": "code",
   "execution_count": 13,
   "id": "9dc680a4-a181-468e-a616-49b01ac58fc9",
   "metadata": {},
   "outputs": [
    {
     "data": {
      "text/plain": [
       "[Row(date=17, u_count=499430),\n",
       " Row(date=16, u_count=476465),\n",
       " Row(date=15, u_count=360900),\n",
       " Row(date=18, u_count=341859),\n",
       " Row(date=14, u_count=305355),\n",
       " Row(date=19, u_count=297422),\n",
       " Row(date=21, u_count=296069),\n",
       " Row(date=20, u_count=291765),\n",
       " Row(date=11, u_count=291596),\n",
       " Row(date=12, u_count=288691),\n",
       " Row(date=13, u_count=285032),\n",
       " Row(date=7, u_count=282676),\n",
       " Row(date=8, u_count=281517),\n",
       " Row(date=29, u_count=280558),\n",
       " Row(date=10, u_count=274830),\n",
       " Row(date=9, u_count=271257),\n",
       " Row(date=5, u_count=270277),\n",
       " Row(date=30, u_count=263591),\n",
       " Row(date=4, u_count=262783),\n",
       " Row(date=26, u_count=260737),\n",
       " Row(date=6, u_count=256212),\n",
       " Row(date=27, u_count=254825),\n",
       " Row(date=22, u_count=253994),\n",
       " Row(date=25, u_count=253317),\n",
       " Row(date=28, u_count=249214),\n",
       " Row(date=23, u_count=248794),\n",
       " Row(date=3, u_count=244636),\n",
       " Row(date=24, u_count=243357),\n",
       " Row(date=2, u_count=229279),\n",
       " Row(date=1, u_count=163146)]"
      ]
     },
     "execution_count": 13,
     "metadata": {},
     "output_type": "execute_result"
    }
   ],
   "source": [
    "max_user"
   ]
  },
  {
   "cell_type": "code",
   "execution_count": 14,
   "id": "be66f150-707f-4d97-905a-2976dc4c7cf6",
   "metadata": {},
   "outputs": [],
   "source": [
    "target_date = max_user[0].date"
   ]
  },
  {
   "cell_type": "code",
   "execution_count": 15,
   "id": "90a3df2d-b8b2-4eb9-ad41-9c2209f851c9",
   "metadata": {},
   "outputs": [
    {
     "data": {
      "text/plain": [
       "17"
      ]
     },
     "execution_count": 15,
     "metadata": {},
     "output_type": "execute_result"
    }
   ],
   "source": [
    "target_date #active user 수가 가장 큰 날짜"
   ]
  },
  {
   "cell_type": "markdown",
   "id": "19351099-4592-4070-b2a1-ffe210268c76",
   "metadata": {},
   "source": [
    "---"
   ]
  },
  {
   "cell_type": "markdown",
   "id": "768a6ea3-c1c7-4c75-94aa-c1e2e1977648",
   "metadata": {},
   "source": [
    "# 2. 1의 날짜에서, 세션이 가장 긴 사용자 10명에 대해 \"user_id, session_id, 세션시간\"를 구하세요"
   ]
  },
  {
   "cell_type": "code",
   "execution_count": 16,
   "id": "5212462d-00e8-416a-8c90-2f6978bf019e",
   "metadata": {},
   "outputs": [],
   "source": [
    "tmp = df.filter(F.dayofmonth(df.event_time) == target_date).orderBy('user_session')"
   ]
  },
  {
   "cell_type": "code",
   "execution_count": 17,
   "id": "413b2a2d-a780-46a2-9bbf-0fe1f2e89d9b",
   "metadata": {},
   "outputs": [
    {
     "name": "stdout",
     "output_type": "stream",
     "text": [
      "root\n",
      " |-- event_time_UTC: string (nullable = true)\n",
      " |-- event_type: string (nullable = true)\n",
      " |-- product_id: string (nullable = true)\n",
      " |-- category_id: string (nullable = true)\n",
      " |-- category_code: string (nullable = true)\n",
      " |-- brand: string (nullable = true)\n",
      " |-- price: string (nullable = true)\n",
      " |-- user_id: string (nullable = true)\n",
      " |-- user_session: string (nullable = true)\n",
      " |-- event_time: string (nullable = true)\n",
      "\n"
     ]
    }
   ],
   "source": [
    "tmp.printSchema()"
   ]
  },
  {
   "cell_type": "code",
   "execution_count": 18,
   "id": "1e65be13-440b-4859-9145-abfb65f67517",
   "metadata": {},
   "outputs": [],
   "source": [
    "spark.catalog.dropTempView('tmp')\n",
    "tmp.createTempView('tmp')"
   ]
  },
  {
   "cell_type": "markdown",
   "id": "ce76d555-bafb-4898-a891-90be6a17f077",
   "metadata": {},
   "source": [
    "### sql"
   ]
  },
  {
   "cell_type": "code",
   "execution_count": 19,
   "id": "c3466bde-e712-408f-bc5e-18fb15ae2a3a",
   "metadata": {},
   "outputs": [
    {
     "name": "stderr",
     "output_type": "stream",
     "text": [
      "[Stage 20:======================================>                   (2 + 1) / 3]\r"
     ]
    },
    {
     "name": "stdout",
     "output_type": "stream",
     "text": [
      "+---------+------------------------------------+-------------------+\n",
      "|user_id  |session_id                          |session_time_minute|\n",
      "+---------+------------------------------------+-------------------+\n",
      "|565022209|a7c5906e-5dd8-4175-aeca-eb5615844e67|1306.3             |\n",
      "|568848552|f2d487ec-1a93-47cd-916a-5e46db85472c|1278.5             |\n",
      "|546179105|c28e0611-7590-49cb-9c19-1d4f6540592a|1264.1             |\n",
      "|557268031|a7b1bde2-4493-4c4b-9517-8b8a0a9cf494|1236.6             |\n",
      "|554760857|c5fc6a55-1735-4636-8490-b6dfd060164c|1212.2             |\n",
      "|543658395|8c85d761-88c9-45f6-b844-4e506c58f9b3|1196.2             |\n",
      "|532969916|1ffae9b4-50e0-4d76-b354-6df7b8d19445|1167.6             |\n",
      "|544784642|cfd07110-7047-4ac5-bb17-a4cbd05a491b|1112.3             |\n",
      "|561409785|a7db81e5-7d03-404b-806b-063148c86e1b|1095.7             |\n",
      "|524688046|0193ea4b-88eb-40ad-bae9-2b00ecd1481f|1092.3             |\n",
      "+---------+------------------------------------+-------------------+\n",
      "\n"
     ]
    },
    {
     "name": "stderr",
     "output_type": "stream",
     "text": [
      "                                                                                \r"
     ]
    }
   ],
   "source": [
    "spark.sql(\"\"\"\n",
    "        select first(user_id) as user_id, \n",
    "                user_session as session_id, \n",
    "                round(\n",
    "                    (extract(hours from to_timestamp(max(event_time))-to_timestamp(min(event_time)))*60 \n",
    "                    + extract(mins from to_timestamp(max(event_time))-to_timestamp(min(event_time)))\n",
    "                    + extract(seconds from to_timestamp(max(event_time))-to_timestamp(min(event_time)))/60), 1\n",
    "                ) as session_time_minute\n",
    "        from tmp\n",
    "        group by session_id\n",
    "        order by session_time_minute desc\n",
    "        limit 10\n",
    "        \"\"\").show(truncate=False)"
   ]
  },
  {
   "cell_type": "markdown",
   "id": "65fcaef5-8306-4e12-8494-10e9f7cf2e4e",
   "metadata": {},
   "source": [
    "### spark method"
   ]
  },
  {
   "cell_type": "code",
   "execution_count": 20,
   "id": "a0aecc11-2c5a-477c-a760-355cbe705f41",
   "metadata": {},
   "outputs": [
    {
     "name": "stderr",
     "output_type": "stream",
     "text": [
      "[Stage 26:======================================>                   (2 + 1) / 3]\r"
     ]
    },
    {
     "name": "stdout",
     "output_type": "stream",
     "text": [
      "+---------+------------------------------------+--------------------+\n",
      "|user_id  |session_id                          |session_time(minute)|\n",
      "+---------+------------------------------------+--------------------+\n",
      "|565022209|a7c5906e-5dd8-4175-aeca-eb5615844e67|1306.3              |\n",
      "|568848552|f2d487ec-1a93-47cd-916a-5e46db85472c|1278.5              |\n",
      "|546179105|c28e0611-7590-49cb-9c19-1d4f6540592a|1264.1              |\n",
      "|557268031|a7b1bde2-4493-4c4b-9517-8b8a0a9cf494|1236.6              |\n",
      "|554760857|c5fc6a55-1735-4636-8490-b6dfd060164c|1212.2              |\n",
      "|543658395|8c85d761-88c9-45f6-b844-4e506c58f9b3|1196.2              |\n",
      "|532969916|1ffae9b4-50e0-4d76-b354-6df7b8d19445|1167.6              |\n",
      "|544784642|cfd07110-7047-4ac5-bb17-a4cbd05a491b|1112.3              |\n",
      "|561409785|a7db81e5-7d03-404b-806b-063148c86e1b|1095.7              |\n",
      "|524688046|0193ea4b-88eb-40ad-bae9-2b00ecd1481f|1092.3              |\n",
      "+---------+------------------------------------+--------------------+\n",
      "\n"
     ]
    },
    {
     "name": "stderr",
     "output_type": "stream",
     "text": [
      "                                                                                \r"
     ]
    }
   ],
   "source": [
    "tmp\\\n",
    ".groupby(\"user_session\")\\\n",
    ".agg(F.first(\"user_id\").alias(\"user_id\"),\n",
    "     F.col('user_session').alias('session_id'),\n",
    "     F.round((F.to_timestamp(F.max(\"event_time\")).cast(\"long\") - F.to_timestamp(F.min(\"event_time\")).cast(\"long\"))/60, 1).alias('session_time(minute)')\n",
    "    )\\\n",
    ".orderBy(\"session_time(minute)\", ascending=False)\\\n",
    ".limit(10)\\\n",
    ".select('user_id', 'session_id', 'session_time(minute)')\\\n",
    ".show(truncate=False)"
   ]
  },
  {
   "cell_type": "markdown",
   "id": "508d3fd6-2275-44fd-88d8-eeb468a59e26",
   "metadata": {},
   "source": [
    "---"
   ]
  },
  {
   "cell_type": "markdown",
   "id": "6149de26-aabc-4489-8008-154184943692",
   "metadata": {},
   "source": [
    "# 3. 1의 날짜의 15분단위로 active user 수를 구하세요"
   ]
  },
  {
   "cell_type": "markdown",
   "id": "dcd93d02-21e2-4741-8425-73a01903abb6",
   "metadata": {},
   "source": [
    "### sql"
   ]
  },
  {
   "cell_type": "code",
   "execution_count": 21,
   "id": "44b1b527-7d5c-4956-92a1-1819325c843f",
   "metadata": {},
   "outputs": [],
   "source": [
    "start1 = \"string(floor((floor((hour(event_time)*60 + minute(event_time))/15)*15)/60))\"\n",
    "start2 = \"string(mod(floor((hour(event_time)*60 + minute(event_time))/15)*15, 60))\"\n",
    "\n",
    "query = f\"\"\"concat( right(concat('0',{start1}), 2),\n",
    "                    \":\",\n",
    "                    right(concat('0',{start2}), 2)\n",
    "                )\"\"\""
   ]
  },
  {
   "cell_type": "code",
   "execution_count": 22,
   "id": "d0f71723-2470-42c4-b324-208e0f48c9ec",
   "metadata": {},
   "outputs": [],
   "source": [
    "end1 = \"string(floor((floor((hour(event_time)*60 + minute(event_time))/15)*15+15)/60))\"\n",
    "end2 = \"string(mod(floor((hour(event_time)*60 + minute(event_time))/15)*15+15, 60))\"\n",
    "\n",
    "query2 = f\"\"\"concat( right(concat('0',{end1}), 2), \n",
    "                    \":\",\n",
    "                    right(concat('0',{end2}), 2)\n",
    "                    \n",
    "                )\"\"\""
   ]
  },
  {
   "cell_type": "code",
   "execution_count": 23,
   "id": "f3172c14-d270-40d9-9f3e-f7b6e704c3f1",
   "metadata": {},
   "outputs": [
    {
     "name": "stderr",
     "output_type": "stream",
     "text": [
      "[Stage 30:>                                                         (0 + 1) / 1]\r"
     ]
    },
    {
     "name": "stdout",
     "output_type": "stream",
     "text": [
      "+-----+-----+------------+\n",
      "|start|end  |active_users|\n",
      "+-----+-----+------------+\n",
      "|00:00|00:15|18397       |\n",
      "|00:15|00:30|17563       |\n",
      "|00:30|00:45|14695       |\n",
      "|00:45|01:00|16119       |\n",
      "|01:00|01:15|15257       |\n",
      "|01:15|01:30|15763       |\n",
      "|01:30|01:45|16024       |\n",
      "|01:45|02:00|12350       |\n",
      "|02:00|02:15|12825       |\n",
      "|02:15|02:30|14053       |\n",
      "|02:30|02:45|13852       |\n",
      "|02:45|03:00|14612       |\n",
      "|03:00|03:15|12782       |\n",
      "|03:15|03:30|12220       |\n",
      "|03:30|03:45|14555       |\n",
      "|03:45|04:00|13697       |\n",
      "|04:00|04:15|12041       |\n",
      "|04:15|04:30|10895       |\n",
      "|04:30|04:45|9556        |\n",
      "|04:45|05:00|8205        |\n",
      "|05:00|05:15|7099        |\n",
      "|05:15|05:30|6040        |\n",
      "|05:30|05:45|5243        |\n",
      "|05:45|06:00|4398        |\n",
      "|06:00|06:15|3800        |\n",
      "|06:15|06:30|3220        |\n",
      "|06:30|06:45|2844        |\n",
      "|06:45|07:00|2480        |\n",
      "|07:00|07:15|2228        |\n",
      "|07:15|07:30|606         |\n",
      "|07:30|07:45|891         |\n",
      "|07:45|08:00|1308        |\n",
      "|08:00|08:15|1296        |\n",
      "|08:15|08:30|1228        |\n",
      "|08:30|08:45|1170        |\n",
      "|08:45|09:00|1142        |\n",
      "|09:00|09:15|1195        |\n",
      "|09:15|09:30|1302        |\n",
      "|09:30|09:45|1409        |\n",
      "|09:45|10:00|1559        |\n",
      "|10:00|10:15|1867        |\n",
      "|10:15|10:30|2218        |\n",
      "|10:30|10:45|2759        |\n",
      "|10:45|11:00|1853        |\n",
      "|11:00|11:15|2816        |\n",
      "|11:15|11:30|5012        |\n",
      "|11:30|11:45|6316        |\n",
      "|11:45|12:00|7390        |\n",
      "|12:00|12:15|8662        |\n",
      "|12:15|12:30|9896        |\n",
      "|12:30|12:45|11422       |\n",
      "|12:45|13:00|12621       |\n",
      "|13:00|13:15|13958       |\n",
      "|13:15|13:30|15367       |\n",
      "|13:30|13:45|16570       |\n",
      "|13:45|14:00|17640       |\n",
      "|14:00|14:15|18104       |\n",
      "|14:15|14:30|19420       |\n",
      "|14:30|14:45|20132       |\n",
      "|14:45|15:00|20670       |\n",
      "|15:00|15:15|20012       |\n",
      "|15:15|15:30|21134       |\n",
      "|15:30|15:45|21221       |\n",
      "|15:45|16:00|20840       |\n",
      "|16:00|16:15|19900       |\n",
      "|16:15|16:30|20254       |\n",
      "|16:30|16:45|20425       |\n",
      "|16:45|17:00|20337       |\n",
      "|17:00|17:15|20294       |\n",
      "|17:15|17:30|20156       |\n",
      "|17:30|17:45|21005       |\n",
      "|17:45|18:00|21067       |\n",
      "|18:00|18:15|19534       |\n",
      "|18:15|18:30|20585       |\n",
      "|18:30|18:45|20535       |\n",
      "|18:45|19:00|20664       |\n",
      "|19:00|19:15|20085       |\n",
      "|19:15|19:30|21254       |\n",
      "|19:30|19:45|21762       |\n",
      "|19:45|20:00|22092       |\n",
      "|20:00|20:15|22158       |\n",
      "|20:15|20:30|21880       |\n",
      "|20:30|20:45|21950       |\n",
      "|20:45|21:00|22156       |\n",
      "|21:00|21:15|22328       |\n",
      "|21:15|21:30|22738       |\n",
      "|21:30|21:45|22783       |\n",
      "|21:45|22:00|22433       |\n",
      "|22:00|22:15|21747       |\n",
      "|22:15|22:30|21247       |\n",
      "|22:30|22:45|21585       |\n",
      "|22:45|23:00|21906       |\n",
      "|23:00|23:15|21609       |\n",
      "|23:15|23:30|21676       |\n",
      "|23:30|23:45|21796       |\n",
      "|23:45|24:00|21911       |\n",
      "+-----+-----+------------+\n",
      "\n"
     ]
    },
    {
     "name": "stderr",
     "output_type": "stream",
     "text": [
      "                                                                                \r"
     ]
    }
   ],
   "source": [
    "spark.sql(f\"\"\"\n",
    "        SELECT {query} as start, {query2} as end, count(distinct(user_id)) as active_users\n",
    "        from tmp\n",
    "        group by floor((hour(event_time)*60 + minute(event_time))/15)\n",
    "        order by start\n",
    "        \"\"\").show(200, truncate=False)"
   ]
  },
  {
   "cell_type": "markdown",
   "id": "74582c81-b090-4c83-90e6-a639054e13c1",
   "metadata": {},
   "source": [
    "### spark method"
   ]
  },
  {
   "cell_type": "code",
   "execution_count": 24,
   "id": "36607a6b-310b-4349-8d3f-28362b86b9a1",
   "metadata": {},
   "outputs": [
    {
     "name": "stderr",
     "output_type": "stream",
     "text": [
      "[Stage 36:>                                                         (0 + 1) / 1]\r"
     ]
    },
    {
     "name": "stdout",
     "output_type": "stream",
     "text": [
      "+-----+-----+------------+\n",
      "|start|  end|active_users|\n",
      "+-----+-----+------------+\n",
      "|00:00|00:15|       18397|\n",
      "|00:15|00:30|       17563|\n",
      "|00:30|00:45|       14695|\n",
      "|00:45|01:00|       16119|\n",
      "|01:00|01:15|       15257|\n",
      "|01:15|01:30|       15763|\n",
      "|01:30|01:45|       16024|\n",
      "|01:45|02:00|       12350|\n",
      "|02:00|02:15|       12825|\n",
      "|02:15|02:30|       14053|\n",
      "|02:30|02:45|       13852|\n",
      "|02:45|03:00|       14612|\n",
      "|03:00|03:15|       12782|\n",
      "|03:15|03:30|       12220|\n",
      "|03:30|03:45|       14555|\n",
      "|03:45|04:00|       13697|\n",
      "|04:00|04:15|       12041|\n",
      "|04:15|04:30|       10895|\n",
      "|04:30|04:45|        9556|\n",
      "|04:45|05:00|        8205|\n",
      "|05:00|05:15|        7099|\n",
      "|05:15|05:30|        6040|\n",
      "|05:30|05:45|        5243|\n",
      "|05:45|06:00|        4398|\n",
      "|06:00|06:15|        3800|\n",
      "|06:15|06:30|        3220|\n",
      "|06:30|06:45|        2844|\n",
      "|06:45|07:00|        2480|\n",
      "|07:00|07:15|        2228|\n",
      "|07:15|07:30|         606|\n",
      "|07:30|07:45|         891|\n",
      "|07:45|08:00|        1308|\n",
      "|08:00|08:15|        1296|\n",
      "|08:15|08:30|        1228|\n",
      "|08:30|08:45|        1170|\n",
      "|08:45|09:00|        1142|\n",
      "|09:00|09:15|        1195|\n",
      "|09:15|09:30|        1302|\n",
      "|09:30|09:45|        1409|\n",
      "|09:45|10:00|        1559|\n",
      "|10:00|10:15|        1867|\n",
      "|10:15|10:30|        2218|\n",
      "|10:30|10:45|        2759|\n",
      "|10:45|11:00|        1853|\n",
      "|11:00|11:15|        2816|\n",
      "|11:15|11:30|        5012|\n",
      "|11:30|11:45|        6316|\n",
      "|11:45|12:00|        7390|\n",
      "|12:00|12:15|        8662|\n",
      "|12:15|12:30|        9896|\n",
      "|12:30|12:45|       11422|\n",
      "|12:45|13:00|       12621|\n",
      "|13:00|13:15|       13958|\n",
      "|13:15|13:30|       15367|\n",
      "|13:30|13:45|       16570|\n",
      "|13:45|14:00|       17640|\n",
      "|14:00|14:15|       18104|\n",
      "|14:15|14:30|       19420|\n",
      "|14:30|14:45|       20132|\n",
      "|14:45|15:00|       20670|\n",
      "|15:00|15:15|       20012|\n",
      "|15:15|15:30|       21134|\n",
      "|15:30|15:45|       21221|\n",
      "|15:45|16:00|       20840|\n",
      "|16:00|16:15|       19900|\n",
      "|16:15|16:30|       20254|\n",
      "|16:30|16:45|       20425|\n",
      "|16:45|17:00|       20337|\n",
      "|17:00|17:15|       20294|\n",
      "|17:15|17:30|       20156|\n",
      "|17:30|17:45|       21005|\n",
      "|17:45|18:00|       21067|\n",
      "|18:00|18:15|       19534|\n",
      "|18:15|18:30|       20585|\n",
      "|18:30|18:45|       20535|\n",
      "|18:45|19:00|       20664|\n",
      "|19:00|19:15|       20085|\n",
      "|19:15|19:30|       21254|\n",
      "|19:30|19:45|       21762|\n",
      "|19:45|20:00|       22092|\n",
      "|20:00|20:15|       22158|\n",
      "|20:15|20:30|       21880|\n",
      "|20:30|20:45|       21950|\n",
      "|20:45|21:00|       22156|\n",
      "|21:00|21:15|       22328|\n",
      "|21:15|21:30|       22738|\n",
      "|21:30|21:45|       22783|\n",
      "|21:45|22:00|       22433|\n",
      "|22:00|22:15|       21747|\n",
      "|22:15|22:30|       21247|\n",
      "|22:30|22:45|       21585|\n",
      "|22:45|23:00|       21906|\n",
      "|23:00|23:15|       21609|\n",
      "|23:15|23:30|       21676|\n",
      "|23:30|23:45|       21796|\n",
      "|23:45|24:00|       21911|\n",
      "+-----+-----+------------+\n",
      "\n"
     ]
    },
    {
     "name": "stderr",
     "output_type": "stream",
     "text": [
      "                                                                                \r"
     ]
    }
   ],
   "source": [
    "tmp.groupby(F.floor(F.floor(F.hour('event_time')*60 + F.minute('event_time'))/15))\\\n",
    ".agg(F.round(F.floor(F.floor(F.hour('event_time')*60 + F.minute('event_time'))/15)*15).alias('m'), F.count_distinct('user_id').alias('active_users'))\\\n",
    ".withColumn(\"start\", F.concat(F.format_string('%02d', F.floor(F.col('m')/60)),F.lit(':'),F.format_string('%02d', F.col('m')%60)))\\\n",
    ".withColumn(\"end\", F.concat(F.format_string(\"%02d\",F.floor((F.col('m')+15)/60)), F.lit(\":\"), F.format_string(\"%02d\",F.floor((F.col('m')+15)%60))))\\\n",
    ".select('start', 'end', 'active_users')\\\n",
    ".orderBy('start')\\\n",
    ".show(200)"
   ]
  },
  {
   "cell_type": "markdown",
   "id": "4d6aa6ae-e45a-49f4-af79-3a71130a5478",
   "metadata": {},
   "source": [
    "---"
   ]
  },
  {
   "cell_type": "markdown",
   "id": "bff7e4a3-d45e-4446-ae31-98a42d30206f",
   "metadata": {},
   "source": [
    "# 4. 1의 날짜에서 view → cart → purchase 이벤트 진행에 따른 funnel 수치를 구하세요"
   ]
  },
  {
   "cell_type": "code",
   "execution_count": 25,
   "id": "c79f961f-0eaf-4eaf-8a9a-713cd67f75c7",
   "metadata": {},
   "outputs": [],
   "source": [
    "window = Window.orderBy(F.desc(F.substring('event_type', -1, 1)))"
   ]
  },
  {
   "cell_type": "code",
   "execution_count": 26,
   "id": "c46a84d3-1e46-4132-bd9e-03706ce6bc7c",
   "metadata": {},
   "outputs": [
    {
     "name": "stderr",
     "output_type": "stream",
     "text": [
      "[Stage 42:>                                                         (0 + 1) / 1]\r"
     ]
    },
    {
     "name": "stdout",
     "output_type": "stream",
     "text": [
      "+----------+--------------+-----------+-------------+---------+\n",
      "|event_type|activated_user|Bounce_Rate|Residual_rate|Drop_rate|\n",
      "+----------+--------------+-----------+-------------+---------+\n",
      "|      view|        498268|        0.0|          1.0|    0.0%p|\n",
      "|      cart|        157923|      0.683|        0.317|   68.3%p|\n",
      "|  purchase|         92930|      0.412|        0.187|   13.0%p|\n",
      "+----------+--------------+-----------+-------------+---------+\n",
      "\n"
     ]
    },
    {
     "name": "stderr",
     "output_type": "stream",
     "text": [
      "                                                                                \r"
     ]
    }
   ],
   "source": [
    "tmp.groupby('event_type').agg(F.count_distinct('user_id').alias('activated_user'))\\\n",
    ".withColumn('lag', F.lag('activated_user', 1, 0).over(window))\\\n",
    ".withColumn('Bounce_Rate', F.when(F.col('lag') == 0, 0).otherwise(F.round(1 - F.col('activated_user')/F.col('lag'), 3)))\\\n",
    ".withColumn('Residual_rate', F.round(F.col('activated_user')/F.max(\"activated_user\").over(window), 3))\\\n",
    ".withColumn('Drop_rate', F.concat(F.round(100*F.lag(F.col('Residual_rate')-F.lag('Residual_rate', -1, 0).over(window), 1, 0).over(window), 1), F.lit(\"%p\")))\\\n",
    ".select(\"event_type\", \"activated_user\", \"Bounce_Rate\", \"Residual_rate\", \"Drop_rate\").show()"
   ]
  },
  {
   "cell_type": "code",
   "execution_count": null,
   "id": "59214745-6971-4d28-92d7-7e01f700a5b9",
   "metadata": {},
   "outputs": [],
   "source": []
  },
  {
   "cell_type": "code",
   "execution_count": null,
   "id": "0c2fb4f0-479f-4404-a9a2-d0123296715c",
   "metadata": {},
   "outputs": [],
   "source": []
  }
 ],
 "metadata": {
  "kernelspec": {
   "display_name": "Python 3 (ipykernel)",
   "language": "python",
   "name": "python3"
  },
  "language_info": {
   "codemirror_mode": {
    "name": "ipython",
    "version": 3
   },
   "file_extension": ".py",
   "mimetype": "text/x-python",
   "name": "python",
   "nbconvert_exporter": "python",
   "pygments_lexer": "ipython3",
   "version": "3.9.7"
  }
 },
 "nbformat": 4,
 "nbformat_minor": 5
}
