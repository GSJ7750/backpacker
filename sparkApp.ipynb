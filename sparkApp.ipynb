{
 "cells": [
  {
   "cell_type": "code",
   "execution_count": 1,
   "id": "35f36caf-8e4e-47d5-9369-e5ff2e227384",
   "metadata": {},
   "outputs": [],
   "source": [
    "from pyspark.sql import SparkSession, DataFrame\n",
    "from pyspark.sql.functions import dayofmonth, to_date, count_distinct, hour,minute\n",
    "from pyspark.sql import functions as F\n",
    "from pyspark.sql.types import *\n",
    "from pyspark.sql import Window\n",
    "from pprint import pprint"
   ]
  },
  {
   "cell_type": "code",
   "execution_count": 2,
   "id": "08b76715-21de-4db4-9a63-c3392bfdb450",
   "metadata": {},
   "outputs": [
    {
     "name": "stderr",
     "output_type": "stream",
     "text": [
      "WARNING: An illegal reflective access operation has occurred\n",
      "WARNING: Illegal reflective access by org.apache.spark.unsafe.Platform (file:/usr/local/spark-3.2.0-bin-hadoop3.2/jars/spark-unsafe_2.12-3.2.0.jar) to constructor java.nio.DirectByteBuffer(long,int)\n",
      "WARNING: Please consider reporting this to the maintainers of org.apache.spark.unsafe.Platform\n",
      "WARNING: Use --illegal-access=warn to enable warnings of further illegal reflective access operations\n",
      "WARNING: All illegal access operations will be denied in a future release\n",
      "Using Spark's default log4j profile: org/apache/spark/log4j-defaults.properties\n",
      "Setting default log level to \"WARN\".\n",
      "To adjust logging level use sc.setLogLevel(newLevel). For SparkR, use setLogLevel(newLevel).\n",
      "21/11/10 12:57:19 WARN NativeCodeLoader: Unable to load native-hadoop library for your platform... using builtin-java classes where applicable\n"
     ]
    }
   ],
   "source": [
    "spark = SparkSession.builder.master(\"local\").appName(\"SparkSQL\").getOrCreate()"
   ]
  },
  {
   "cell_type": "code",
   "execution_count": 3,
   "id": "c96fd1b6-9ba3-497d-ab64-7524fad6c199",
   "metadata": {},
   "outputs": [],
   "source": [
    "spark.sparkContext.setLogLevel(\"ERROR\")"
   ]
  },
  {
   "cell_type": "code",
   "execution_count": 4,
   "id": "92196675-c3eb-4d85-8883-9faa2f487ebe",
   "metadata": {},
   "outputs": [],
   "source": [
    "schema = StructType(\n",
    "    [\n",
    "        StructField('event_time', StringType()),\n",
    "        StructField('event_type', StringType()),\n",
    "        StructField('product_id', StringType()),\n",
    "        StructField('category_id', StringType()),\n",
    "        StructField('category_code', StringType()),\n",
    "        StructField('brand', StringType()),\n",
    "        StructField('price', StringType()),\n",
    "        StructField('user_id', StringType()),\n",
    "        StructField('user_session', StringType()),\n",
    "    ]\n",
    ")"
   ]
  },
  {
   "cell_type": "code",
   "execution_count": 5,
   "id": "0669fc25-35c4-497a-a2bc-b9fbbea928ae",
   "metadata": {},
   "outputs": [],
   "source": [
    "df = spark.read.option(\"header\",True).schema(schema).csv(\"./2019-Nov.csv\")#.limit(100000)"
   ]
  },
  {
   "cell_type": "code",
   "execution_count": 6,
   "id": "0100f0bc-4072-4724-950c-0ac7d44cff1a",
   "metadata": {},
   "outputs": [
    {
     "name": "stdout",
     "output_type": "stream",
     "text": [
      "+-----------------------+----------+----------+-------------------+--------------------------------+--------+------+---------+------------------------------------+\n",
      "|event_time             |event_type|product_id|category_id        |category_code                   |brand   |price |user_id  |user_session                        |\n",
      "+-----------------------+----------+----------+-------------------+--------------------------------+--------+------+---------+------------------------------------+\n",
      "|2019-11-01 00:00:00 UTC|view      |1003461   |2053013555631882655|electronics.smartphone          |xiaomi  |489.07|520088904|4d3b30da-a5e4-49df-b1a8-ba5943f1dd33|\n",
      "|2019-11-01 00:00:00 UTC|view      |5000088   |2053013566100866035|appliances.sewing_machine       |janome  |293.65|530496790|8e5f4f83-366c-4f70-860e-ca7417414283|\n",
      "|2019-11-01 00:00:01 UTC|view      |17302664  |2053013553853497655|null                            |creed   |28.31 |561587266|755422e7-9040-477b-9bd2-6a6e8fd97387|\n",
      "|2019-11-01 00:00:01 UTC|view      |3601530   |2053013563810775923|appliances.kitchen.washer       |lg      |712.87|518085591|3bfb58cd-7892-48cc-8020-2f17e6de6e7f|\n",
      "|2019-11-01 00:00:01 UTC|view      |1004775   |2053013555631882655|electronics.smartphone          |xiaomi  |183.27|558856683|313628f1-68b8-460d-84f6-cec7a8796ef2|\n",
      "|2019-11-01 00:00:01 UTC|view      |1306894   |2053013558920217191|computers.notebook              |hp      |360.09|520772685|816a59f3-f5ae-4ccd-9b23-82aa8c23d33c|\n",
      "|2019-11-01 00:00:01 UTC|view      |1306421   |2053013558920217191|computers.notebook              |hp      |514.56|514028527|df8184cc-3694-4549-8c8c-6b5171877376|\n",
      "|2019-11-01 00:00:02 UTC|view      |15900065  |2053013558190408249|null                            |rondell |30.86 |518574284|5e6ef132-4d7c-4730-8c7f-85aa4082588f|\n",
      "|2019-11-01 00:00:02 UTC|view      |12708937  |2053013553559896355|null                            |michelin|72.72 |532364121|0a899268-31eb-46de-898d-09b2da950b24|\n",
      "|2019-11-01 00:00:02 UTC|view      |1004258   |2053013555631882655|electronics.smartphone          |apple   |732.07|532647354|d2d3d2c6-631d-489e-9fb5-06f340b85be0|\n",
      "|2019-11-01 00:00:03 UTC|view      |17200570  |2053013559792632471|furniture.living_room.sofa      |null    |437.33|518780843|aa806835-b14c-45af-9538-cd4d1849be3e|\n",
      "|2019-11-01 00:00:03 UTC|view      |2701517   |2053013563911439225|appliances.kitchen.refrigerators|null    |155.11|518427361|c89b0d96-247f-4044-9c91-bb5f38c6af9b|\n",
      "|2019-11-01 00:00:03 UTC|view      |16700260  |2053013559901684381|furniture.kitchen.chair         |null    |31.64 |566255262|173d7b72-1db7-4638-8207-be8148bf3c9f|\n",
      "|2019-11-01 00:00:04 UTC|view      |34600011  |2060981320581906480|null                            |null    |20.54 |512416379|4dfe2c67-e537-4dc2-ae69-0b65263db091|\n",
      "|2019-11-01 00:00:05 UTC|view      |4600658   |2053013563944993659|appliances.kitchen.dishwasher   |samsung |411.83|526595547|aab33a9a-29c3-4d50-84c1-8a2bc9256104|\n",
      "|2019-11-01 00:00:06 UTC|view      |24900193  |2053013562183385881|null                            |null    |1.09  |512651494|f603c815-f51a-46fe-9404-cb586e35edaf|\n",
      "|2019-11-01 00:00:07 UTC|view      |27400066  |2053013563391345499|null                            |null    |8.55  |551061950|3f6112f1-5695-4e88-bb0a-49f9e36658ff|\n",
      "|2019-11-01 00:00:07 UTC|view      |5100503   |2053013553375346967|null                            |xiaomi  |22.68 |520037415|f54fa96a-f3f2-43ac-99a4-fcb2a449dd36|\n",
      "|2019-11-01 00:00:07 UTC|view      |1004566   |2053013555631882655|electronics.smartphone          |huawei  |164.84|566265908|52c2c76c-b79e-4794-86ff-badc76d35f5a|\n",
      "|2019-11-01 00:00:08 UTC|view      |1307115   |2053013558920217191|computers.notebook              |hp      |411.59|514028527|df8184cc-3694-4549-8c8c-6b5171877376|\n",
      "+-----------------------+----------+----------+-------------------+--------------------------------+--------+------+---------+------------------------------------+\n",
      "only showing top 20 rows\n",
      "\n"
     ]
    }
   ],
   "source": [
    "df.show(truncate=False)"
   ]
  },
  {
   "cell_type": "code",
   "execution_count": 7,
   "id": "2ecf9233-442f-4102-9b32-48788852ed90",
   "metadata": {},
   "outputs": [
    {
     "name": "stdout",
     "output_type": "stream",
     "text": [
      "root\n",
      " |-- event_time: string (nullable = true)\n",
      " |-- event_type: string (nullable = true)\n",
      " |-- product_id: string (nullable = true)\n",
      " |-- category_id: string (nullable = true)\n",
      " |-- category_code: string (nullable = true)\n",
      " |-- brand: string (nullable = true)\n",
      " |-- price: string (nullable = true)\n",
      " |-- user_id: string (nullable = true)\n",
      " |-- user_session: string (nullable = true)\n",
      "\n"
     ]
    }
   ],
   "source": [
    "df.printSchema()"
   ]
  },
  {
   "cell_type": "code",
   "execution_count": 8,
   "id": "595c1d62-1bfc-4fa9-98ae-58b5c9b05f09",
   "metadata": {},
   "outputs": [
    {
     "data": {
      "text/plain": [
       "[Row(event_time='2019-11-01 00:00:00 UTC', event_type='view', product_id='1003461', category_id='2053013555631882655', category_code='electronics.smartphone', brand='xiaomi', price='489.07', user_id='520088904', user_session='4d3b30da-a5e4-49df-b1a8-ba5943f1dd33'),\n",
       " Row(event_time='2019-11-01 00:00:00 UTC', event_type='view', product_id='5000088', category_id='2053013566100866035', category_code='appliances.sewing_machine', brand='janome', price='293.65', user_id='530496790', user_session='8e5f4f83-366c-4f70-860e-ca7417414283'),\n",
       " Row(event_time='2019-11-01 00:00:01 UTC', event_type='view', product_id='17302664', category_id='2053013553853497655', category_code=None, brand='creed', price='28.31', user_id='561587266', user_session='755422e7-9040-477b-9bd2-6a6e8fd97387'),\n",
       " Row(event_time='2019-11-01 00:00:01 UTC', event_type='view', product_id='3601530', category_id='2053013563810775923', category_code='appliances.kitchen.washer', brand='lg', price='712.87', user_id='518085591', user_session='3bfb58cd-7892-48cc-8020-2f17e6de6e7f'),\n",
       " Row(event_time='2019-11-01 00:00:01 UTC', event_type='view', product_id='1004775', category_id='2053013555631882655', category_code='electronics.smartphone', brand='xiaomi', price='183.27', user_id='558856683', user_session='313628f1-68b8-460d-84f6-cec7a8796ef2')]"
      ]
     },
     "execution_count": 8,
     "metadata": {},
     "output_type": "execute_result"
    }
   ],
   "source": [
    "df.head(5)"
   ]
  },
  {
   "cell_type": "code",
   "execution_count": null,
   "id": "fb407c2d-bc16-4fe1-820a-6e24b7a0e5a2",
   "metadata": {},
   "outputs": [
    {
     "name": "stderr",
     "output_type": "stream",
     "text": [
      "[Stage 16:===================================>                    (43 + 1) / 68]\r"
     ]
    }
   ],
   "source": [
    "df.tail(5)"
   ]
  },
  {
   "cell_type": "markdown",
   "id": "bea3ec8a-993b-4fa7-8ce5-34127ff78651",
   "metadata": {},
   "source": [
    "# 1. 해당 전체 기간에서, KST 기준으로 active user 수가 제일 큰 날짜를 구하세요"
   ]
  },
  {
   "cell_type": "code",
   "execution_count": 6,
   "id": "05afced8-dd64-4caa-9ace-875c2bd73436",
   "metadata": {},
   "outputs": [],
   "source": [
    "max_active = df.groupby(dayofmonth('event_time').alias('date')).agg(count_distinct('user_id').alias('u_count')).orderBy('u_count', ascending=False)"
   ]
  },
  {
   "cell_type": "code",
   "execution_count": 77,
   "id": "3ff3a5a8-76d1-4d44-89aa-e86b95fbdfa5",
   "metadata": {},
   "outputs": [
    {
     "name": "stderr",
     "output_type": "stream",
     "text": [
      "                                                                                \r"
     ]
    }
   ],
   "source": [
    "max_user = max_active.collect()"
   ]
  },
  {
   "cell_type": "code",
   "execution_count": 78,
   "id": "9dc680a4-a181-468e-a616-49b01ac58fc9",
   "metadata": {},
   "outputs": [
    {
     "data": {
      "text/plain": [
       "[Row(date=1, u_count=20778)]"
      ]
     },
     "execution_count": 78,
     "metadata": {},
     "output_type": "execute_result"
    }
   ],
   "source": [
    "max_user"
   ]
  },
  {
   "cell_type": "code",
   "execution_count": 79,
   "id": "be66f150-707f-4d97-905a-2976dc4c7cf6",
   "metadata": {},
   "outputs": [],
   "source": [
    "target_date = max_user[0].date"
   ]
  },
  {
   "cell_type": "code",
   "execution_count": 10,
   "id": "90a3df2d-b8b2-4eb9-ad41-9c2209f851c9",
   "metadata": {},
   "outputs": [
    {
     "data": {
      "text/plain": [
       "17"
      ]
     },
     "execution_count": 10,
     "metadata": {},
     "output_type": "execute_result"
    }
   ],
   "source": [
    "target_date"
   ]
  },
  {
   "cell_type": "markdown",
   "id": "19351099-4592-4070-b2a1-ffe210268c76",
   "metadata": {},
   "source": [
    "---"
   ]
  },
  {
   "cell_type": "markdown",
   "id": "768a6ea3-c1c7-4c75-94aa-c1e2e1977648",
   "metadata": {},
   "source": [
    "# 2. 1의 날짜에서, 세션이 가장 긴 사용자 10명에 대해 \"user_id, session_id, 세션시간\"를 구하세요"
   ]
  },
  {
   "cell_type": "code",
   "execution_count": 8,
   "id": "5212462d-00e8-416a-8c90-2f6978bf019e",
   "metadata": {},
   "outputs": [],
   "source": [
    "tmp = df.filter(dayofmonth(df.event_time) == target_date).orderBy('user_session')"
   ]
  },
  {
   "cell_type": "code",
   "execution_count": 9,
   "id": "413b2a2d-a780-46a2-9bbf-0fe1f2e89d9b",
   "metadata": {},
   "outputs": [
    {
     "name": "stdout",
     "output_type": "stream",
     "text": [
      "root\n",
      " |-- event_time: string (nullable = true)\n",
      " |-- event_type: string (nullable = true)\n",
      " |-- product_id: string (nullable = true)\n",
      " |-- category_id: string (nullable = true)\n",
      " |-- category_code: string (nullable = true)\n",
      " |-- brand: string (nullable = true)\n",
      " |-- price: string (nullable = true)\n",
      " |-- user_id: string (nullable = true)\n",
      " |-- user_session: string (nullable = true)\n",
      "\n"
     ]
    }
   ],
   "source": [
    "tmp.printSchema()"
   ]
  },
  {
   "cell_type": "code",
   "execution_count": 11,
   "id": "1e65be13-440b-4859-9145-abfb65f67517",
   "metadata": {},
   "outputs": [],
   "source": [
    "spark.catalog.dropTempView('tmp')\n",
    "tmp.createTempView('tmp')"
   ]
  },
  {
   "cell_type": "markdown",
   "id": "c84a184d-e438-4f84-9779-083b5d39bf83",
   "metadata": {},
   "source": [
    "spark.sql(\"\"\"\n",
    "        select first(t.user_id) as user_id, last(user_id) as last\n",
    "        from tmp t\n",
    "        group by t.user_session\n",
    "        having last != user_id\n",
    "        \"\"\").show(truncate=False)\n",
    "#세션아이디가 같으면서 유저아이디가 다른 경우가 있는지 확인"
   ]
  },
  {
   "cell_type": "markdown",
   "id": "fdb7d282-6915-462e-a195-8a00a7062e44",
   "metadata": {},
   "source": [
    "\n",
    "spark.sql(\"\"\"\n",
    "        select t.user_session, min(t.event_time) as start, max(t.event_time) as end, bigint(to_timestamp(max(t.event_time)))-bigint(to_timestamp(min(t.event_time))) as keep, first(t.user_id) as user_id, last(user_id) as last\n",
    "        from tmp t\n",
    "        group by t.user_session\n",
    "        having last != user_id\n",
    "        order by keep desc\n",
    "        \n",
    "        \"\"\").show(truncate=False)"
   ]
  },
  {
   "cell_type": "code",
   "execution_count": 34,
   "id": "c3466bde-e712-408f-bc5e-18fb15ae2a3a",
   "metadata": {},
   "outputs": [
    {
     "name": "stderr",
     "output_type": "stream",
     "text": [
      "[Stage 35:=======================================================>(67 + 1) / 68]\r"
     ]
    },
    {
     "name": "stdout",
     "output_type": "stream",
     "text": [
      "+---------+------------------------------------+------------+\n",
      "|user_id  |session_id                          |session_time|\n",
      "+---------+------------------------------------+------------+\n",
      "|512677696|87c256b2-a9a9-4c55-8867-4a3ab116aee7|132.8       |\n",
      "|513151632|15ff5731-fe42-4628-b4bc-5f362b06432f|122.7       |\n",
      "|566263856|93476518-09d0-4430-a224-d37a28d30488|120.0       |\n",
      "|522957619|a88c923f-d3d1-4d24-9525-21c7ffbab9e6|108.6       |\n",
      "|563875620|20fdf02c-5922-4662-9360-d876ac380157|102.5       |\n",
      "|530187571|390a9a5f-a7b8-49be-b3f1-6037eeb181fa|98.8        |\n",
      "|566284963|15bff1fb-de2a-4185-bea9-293ff2c9d5de|94.2        |\n",
      "|517702267|42599d98-752a-4fd8-a485-d8d03a753dbb|93.2        |\n",
      "|562824468|c0f72b7d-4b57-43b1-913e-d277649b1388|92.1        |\n",
      "|536475561|a65d7633-2e46-4e5a-9b89-e3f1603dc63a|89.2        |\n",
      "|512432743|a69bb438-d8ea-416b-8274-475a431823a3|81.6        |\n",
      "|519155085|084a39d2-894f-436e-82f6-dcce242b389f|81.3        |\n",
      "|566190908|d8c04b8e-fb2f-4990-a662-8e7b2c80bf38|77.8        |\n",
      "|566283976|ead73ced-826b-4865-9c90-73bc0da3a41b|77.7        |\n",
      "|566285177|5bf9c3c7-a396-4193-9062-87c49964ca73|75.6        |\n",
      "|517099175|07b0cbbe-3f76-4716-9953-87f5d5165aa5|74.2        |\n",
      "|565812105|42ceeb20-7c48-4455-a3c6-44c459d83d4c|73.2        |\n",
      "|528269305|4f86bf09-1d65-41a7-8b18-51e90d6c8f6b|72.0        |\n",
      "|539794563|fdb8c396-d1bf-4c4a-b553-ccfd7858e2f0|71.6        |\n",
      "|562825986|611acac5-61cd-4149-9532-39a70ecf537b|71.3        |\n",
      "+---------+------------------------------------+------------+\n",
      "only showing top 20 rows\n",
      "\n"
     ]
    },
    {
     "name": "stderr",
     "output_type": "stream",
     "text": [
      "                                                                                \r"
     ]
    }
   ],
   "source": [
    "spark.sql(\"\"\"\n",
    "        select first(user_id) as user_id, \n",
    "                user_session as session_id, \n",
    "                round(\n",
    "                    (extract(hours from to_timestamp(max(event_time))-to_timestamp(min(event_time)))*60 \n",
    "                    + extract(mins from to_timestamp(max(event_time))-to_timestamp(min(event_time)))\n",
    "                    + extract(seconds from to_timestamp(max(event_time))-to_timestamp(min(event_time)))/60), 1\n",
    "                ) as session_time\n",
    "        from tmp\n",
    "        group by session_id\n",
    "        order by session_time desc\n",
    "        \"\"\").show(truncate=False)"
   ]
  },
  {
   "cell_type": "markdown",
   "id": "6149de26-aabc-4489-8008-154184943692",
   "metadata": {},
   "source": [
    "# 3. 1의 날짜의 15분단위로 active user 수를 구하세요"
   ]
  },
  {
   "cell_type": "markdown",
   "id": "e3dda6d2-91b6-462e-be24-6eeb48e0167e",
   "metadata": {},
   "source": [
    "spark.sql(\"\"\"\n",
    "        with RECURSIVE time as (\n",
    "            select 0 MINUTE\n",
    "            union\n",
    "            select MINUTE+15\n",
    "            from time\n",
    "        )\n",
    "        SELECT *, count(*) as 'COUNT'\n",
    "        FROM (\n",
    "            select minute(to_timestamp(event_time)) as MINUTE from tmp\n",
    "            union all\n",
    "            select MINUTE from time\n",
    "        ) as f\n",
    "        group by MINUTE\n",
    "        order by MINUTE\n",
    "        \"\"\").show(truncate=False)"
   ]
  },
  {
   "cell_type": "code",
   "execution_count": 28,
   "id": "8bfb9895-f9c7-4ff1-8936-adeccbcdb6a2",
   "metadata": {},
   "outputs": [
    {
     "name": "stderr",
     "output_type": "stream",
     "text": [
      "[Stage 6:===================================================>     (62 + 1) / 68]\r"
     ]
    },
    {
     "name": "stdout",
     "output_type": "stream",
     "text": [
      "+---+-----------------------+\n",
      "|m  |count(DISTINCT user_id)|\n",
      "+---+-----------------------+\n",
      "|0  |542                    |\n",
      "|15 |628                    |\n",
      "|30 |768                    |\n",
      "|45 |669                    |\n",
      "+---+-----------------------+\n",
      "\n"
     ]
    },
    {
     "name": "stderr",
     "output_type": "stream",
     "text": [
      "                                                                                \r"
     ]
    }
   ],
   "source": [
    "spark.sql(\"\"\"\n",
    "        SELECT floor((hour(event_time)*60 + minute(event_time))/15)*15 as m, count(distinct(user_id))\n",
    "        from tmp\n",
    "        group by floor((hour(event_time)*60 + minute(event_time))/15)\n",
    "        \"\"\").show(truncate=False)"
   ]
  },
  {
   "cell_type": "markdown",
   "id": "c13dd8fa-9ff2-4dc3-92e5-18d5dbaf4bda",
   "metadata": {},
   "source": [
    "query = \"\"\"concat( string( floor((floor((hour(event_time)*60 + minute(event_time))/15)*15)/60) ), \n",
    "                    \":\",\n",
    "                    string( mod( floor((hour(event_time)*60 + minute(event_time))/15)*15, 60)))\"\"\""
   ]
  },
  {
   "cell_type": "markdown",
   "id": "372f86d0-0978-4670-bada-cb96fcfbe466",
   "metadata": {},
   "source": [
    "query2 = \"\"\"concat( string( floor((floor((hour(event_time)*60 + minute(event_time))/15)*15+15)/60) ), \n",
    "                    \":\",\n",
    "                    string( mod( floor((hour(event_time)*60 + minute(event_time))/15)*15+15, 60)))\"\"\""
   ]
  },
  {
   "cell_type": "markdown",
   "id": "d4daf430-2bb6-4750-bfb1-8731fd8bdb12",
   "metadata": {},
   "source": [
    "---"
   ]
  },
  {
   "cell_type": "code",
   "execution_count": 93,
   "id": "022b74d6-47ec-4064-ab2e-b4851b880bf3",
   "metadata": {},
   "outputs": [],
   "source": [
    "start1 = \"string(floor((floor((hour(event_time)*60 + minute(event_time))/15)*15)/60))\""
   ]
  },
  {
   "cell_type": "code",
   "execution_count": 94,
   "id": "03e9150d-d9e2-460d-b1c6-05aa9a2475cc",
   "metadata": {},
   "outputs": [],
   "source": [
    "start2 = \"string(mod(floor((hour(event_time)*60 + minute(event_time))/15)*15, 60))\""
   ]
  },
  {
   "cell_type": "code",
   "execution_count": 95,
   "id": "763e99fa-be9f-4b88-ae40-6afe2d944a59",
   "metadata": {},
   "outputs": [],
   "source": [
    "query = f\"\"\"concat( if(length({start1})=2, \n",
    "                    {start1}, \n",
    "                    concat(0,{start1})), \n",
    "                    \n",
    "                    \":\",\n",
    "                    \n",
    "                    if(length({start2})=2,\n",
    "                    {start2},\n",
    "                    concat(0, {start2}))\n",
    "                )\"\"\""
   ]
  },
  {
   "cell_type": "code",
   "execution_count": 96,
   "id": "d0f71723-2470-42c4-b324-208e0f48c9ec",
   "metadata": {},
   "outputs": [],
   "source": [
    "end1 = \"string(floor((floor((hour(event_time)*60 + minute(event_time))/15)*15+15)/60))\""
   ]
  },
  {
   "cell_type": "code",
   "execution_count": 97,
   "id": "7921d4e3-4bea-43e0-8e26-a063dfc58695",
   "metadata": {},
   "outputs": [],
   "source": [
    "end2 = \"string(mod(floor((hour(event_time)*60 + minute(event_time))/15)*15+15, 60))\""
   ]
  },
  {
   "cell_type": "code",
   "execution_count": 98,
   "id": "982dcf30-454d-4fc2-a9b4-4b3c4fd4d286",
   "metadata": {},
   "outputs": [],
   "source": [
    "query2 = f\"\"\"concat( if(length({end1})=2, \n",
    "                    {end1}, \n",
    "                    concat(0,{end1})), \n",
    "                    \n",
    "                    \":\",\n",
    "                    \n",
    "                    if(length({end2})=2,\n",
    "                    {end2},\n",
    "                    concat(0, {end2})\n",
    "                    )\n",
    "                )\"\"\""
   ]
  },
  {
   "cell_type": "code",
   "execution_count": 100,
   "id": "f3172c14-d270-40d9-9f3e-f7b6e704c3f1",
   "metadata": {},
   "outputs": [
    {
     "name": "stderr",
     "output_type": "stream",
     "text": [
      "[Stage 115:======================================================>(67 + 1) / 68]\r"
     ]
    },
    {
     "name": "stdout",
     "output_type": "stream",
     "text": [
      "+-----+-----+------------+\n",
      "|start|end  |active_users|\n",
      "+-----+-----+------------+\n",
      "|00:00|00:15|542         |\n",
      "|00:15|00:30|628         |\n",
      "|00:30|00:45|768         |\n",
      "|00:45|01:00|870         |\n",
      "|01:00|01:15|698         |\n",
      "|01:15|01:30|411         |\n",
      "|01:30|01:45|1309        |\n",
      "|01:45|02:00|1549        |\n",
      "|02:00|02:15|1796        |\n",
      "|02:15|02:30|2072        |\n",
      "|02:30|02:45|2261        |\n",
      "|02:45|03:00|2578        |\n",
      "|03:00|03:15|2996        |\n",
      "|03:15|03:30|3411        |\n",
      "|03:30|03:45|3463        |\n",
      "|03:45|04:00|2244        |\n",
      "+-----+-----+------------+\n",
      "\n"
     ]
    },
    {
     "name": "stderr",
     "output_type": "stream",
     "text": [
      "                                                                                \r"
     ]
    }
   ],
   "source": [
    "spark.sql(f\"\"\"\n",
    "        SELECT {query} as start, {query2} as end, count(distinct(user_id)) as active_users\n",
    "        from tmp\n",
    "        group by floor((hour(event_time)*60 + minute(event_time))/15)\n",
    "        order by start\n",
    "        \"\"\").show(200, truncate=False)"
   ]
  },
  {
   "cell_type": "code",
   "execution_count": 334,
   "id": "4657cd00-c0b7-4c68-8d96-30e59ad7f2d0",
   "metadata": {},
   "outputs": [
    {
     "name": "stderr",
     "output_type": "stream",
     "text": [
      "[Stage 484:===============================================>       (59 + 1) / 68]\r"
     ]
    },
    {
     "name": "stdout",
     "output_type": "stream",
     "text": [
      "+----------------------------------------------------+-----------------------------------------------------------+-----------------------+\n",
      "|(FLOOR(((to_timestamp(event_time) / 60) / 15)) * 15)|((FLOOR(((to_timestamp(event_time) / 60) / 15)) * 15) - 15)|count(DISTINCT user_id)|\n",
      "+----------------------------------------------------+-----------------------------------------------------------+-----------------------+\n",
      "|26209440                                            |26209425                                                   |542                    |\n",
      "|26209455                                            |26209440                                                   |628                    |\n",
      "|26209470                                            |26209455                                                   |768                    |\n",
      "|26209485                                            |26209470                                                   |669                    |\n",
      "+----------------------------------------------------+-----------------------------------------------------------+-----------------------+\n",
      "\n"
     ]
    },
    {
     "name": "stderr",
     "output_type": "stream",
     "text": [
      "                                                                                \r"
     ]
    }
   ],
   "source": [
    "spark.sql(\"\"\"\n",
    "        SELECT floor(bigint(to_timestamp(event_time))/60/15)*15, floor(bigint(to_timestamp(event_time))/60/15)*15-15, count(distinct(user_id))\n",
    "        from tmp\n",
    "        group by floor(bigint(to_timestamp(event_time))/60/15)*15\n",
    "        \"\"\").show(truncate=False)"
   ]
  },
  {
   "cell_type": "markdown",
   "id": "bff7e4a3-d45e-4446-ae31-98a42d30206f",
   "metadata": {},
   "source": [
    "# 4. 1의 날짜에서 view → cart → purchase 이벤트 진행에 따른 funnel 수치를 구하세요"
   ]
  },
  {
   "cell_type": "code",
   "execution_count": 38,
   "id": "e128e369-6785-4b1e-8690-6cd43518f64e",
   "metadata": {},
   "outputs": [
    {
     "name": "stderr",
     "output_type": "stream",
     "text": [
      "[Stage 44:=====================================================>  (65 + 1) / 68]\r"
     ]
    },
    {
     "name": "stdout",
     "output_type": "stream",
     "text": [
      "+----------+--------+\n",
      "|event_type|count(1)|\n",
      "+----------+--------+\n",
      "|view      |48964   |\n",
      "|cart      |468     |\n",
      "|purchase  |568     |\n",
      "+----------+--------+\n",
      "\n"
     ]
    },
    {
     "name": "stderr",
     "output_type": "stream",
     "text": [
      "                                                                                \r"
     ]
    }
   ],
   "source": [
    "spark.sql(\"\"\"\n",
    "        select event_type, count(*)\n",
    "        from tmp\n",
    "        group by event_type\n",
    "\"\"\").show(truncate=False)"
   ]
  },
  {
   "cell_type": "code",
   "execution_count": 107,
   "id": "5a9663f8-f2ee-4cda-a189-0041726c6420",
   "metadata": {},
   "outputs": [
    {
     "name": "stderr",
     "output_type": "stream",
     "text": [
      "[Stage 124:======================================================>(67 + 1) / 68]\r"
     ]
    },
    {
     "name": "stdout",
     "output_type": "stream",
     "text": [
      "+----------+--------------+\n",
      "|event_type|activated_user|\n",
      "+----------+--------------+\n",
      "|      view|         97489|\n",
      "|      cart|          1089|\n",
      "|  purchase|          1422|\n",
      "+----------+--------------+\n",
      "\n"
     ]
    },
    {
     "name": "stderr",
     "output_type": "stream",
     "text": [
      "                                                                                \r"
     ]
    }
   ],
   "source": [
    "tmp.groupby('event_type').agg(F.count('user_id').alias('activated_user')).show()"
   ]
  },
  {
   "cell_type": "code",
   "execution_count": 114,
   "id": "4f9aa29d-0a25-4eba-af80-97e401a7549d",
   "metadata": {},
   "outputs": [],
   "source": []
  },
  {
   "cell_type": "code",
   "execution_count": 13,
   "id": "c79f961f-0eaf-4eaf-8a9a-713cd67f75c7",
   "metadata": {},
   "outputs": [],
   "source": [
    "window = Window.orderBy(F.desc(F.substring('event_type', -1, 1)))"
   ]
  },
  {
   "cell_type": "code",
   "execution_count": 22,
   "id": "5abab12e-486c-41d3-b3fe-652958a078a2",
   "metadata": {},
   "outputs": [
    {
     "name": "stderr",
     "output_type": "stream",
     "text": [
      "[Stage 42:>                                                         (0 + 1) / 1]\r"
     ]
    },
    {
     "name": "stdout",
     "output_type": "stream",
     "text": [
      "+----------+--------------+------+-----------+\n",
      "|event_type|activated_user|   lag|Bounce_Rate|\n",
      "+----------+--------------+------+-----------+\n",
      "|      view|        486485|     0|        0.0|\n",
      "|      cart|        156741|486485|       0.68|\n",
      "|  purchase|        113889|156741|       0.27|\n",
      "+----------+--------------+------+-----------+\n",
      "\n"
     ]
    },
    {
     "name": "stderr",
     "output_type": "stream",
     "text": [
      "                                                                                \r"
     ]
    }
   ],
   "source": [
    "tmp.groupby('event_type').agg(F.count_distinct('user_id').alias('activated_user')\n",
    "                             ).withColumn('lag', F.lag('activated_user', 1, 0).over(window)\n",
    "                                         ).withColumn('Bounce_Rate', F.when(F.col('lag') == 0, 0).otherwise(F.round(1 - F.col('activated_user')/F.col('lag'), 2))\n",
    "                                                     ).show()"
   ]
  },
  {
   "cell_type": "code",
   "execution_count": 62,
   "id": "c46a84d3-1e46-4132-bd9e-03706ce6bc7c",
   "metadata": {},
   "outputs": [
    {
     "name": "stderr",
     "output_type": "stream",
     "text": [
      "[Stage 180:=====================================================> (66 + 1) / 68]\r"
     ]
    },
    {
     "name": "stdout",
     "output_type": "stream",
     "text": [
      "+----------+--------------+------+-----------+-------------+---------+\n",
      "|event_type|activated_user|   lag|Bounce_Rate|Residual_rate|Drop_rate|\n",
      "+----------+--------------+------+-----------+-------------+---------+\n",
      "|      view|        486485|     0|        0.0|          1.0|      0.0|\n",
      "|      cart|        156741|486485|      0.678|        0.322|    0.678|\n",
      "|  purchase|        113889|156741|      0.273|        0.234|    0.088|\n",
      "+----------+--------------+------+-----------+-------------+---------+\n",
      "\n"
     ]
    },
    {
     "name": "stderr",
     "output_type": "stream",
     "text": [
      "                                                                                \r"
     ]
    }
   ],
   "source": [
    "tmp.groupby('event_type').agg(F.count_distinct('user_id').alias('activated_user')\n",
    "                             ).withColumn('lag', F.lag('activated_user', 1, 0).over(window)\n",
    "                                         ).withColumn('Bounce_Rate', F.when(F.col('lag') == 0, 0).otherwise(F.round(1 - F.col('activated_user')/F.col('lag'), 3))\n",
    "                                                     ).withColumn('Residual_rate', F.round(F.col('activated_user')/F.max(\"activated_user\").over(window), 3)\n",
    "                                                                 ).withColumn('Drop_rate', F.lag(F.round(F.col('Residual_rate')-F.lag('Residual_rate', -1, 0).over(window),3), 1, 0).over(window)\n",
    "                                                                             ).show()"
   ]
  },
  {
   "cell_type": "code",
   "execution_count": null,
   "id": "c6c70119-a8d9-49cc-8ecc-5e492bd38d6f",
   "metadata": {},
   "outputs": [],
   "source": []
  },
  {
   "cell_type": "code",
   "execution_count": null,
   "id": "59214745-6971-4d28-92d7-7e01f700a5b9",
   "metadata": {},
   "outputs": [],
   "source": []
  }
 ],
 "metadata": {
  "kernelspec": {
   "display_name": "Python 3 (ipykernel)",
   "language": "python",
   "name": "python3"
  },
  "language_info": {
   "codemirror_mode": {
    "name": "ipython",
    "version": 3
   },
   "file_extension": ".py",
   "mimetype": "text/x-python",
   "name": "python",
   "nbconvert_exporter": "python",
   "pygments_lexer": "ipython3",
   "version": "3.9.7"
  }
 },
 "nbformat": 4,
 "nbformat_minor": 5
}
