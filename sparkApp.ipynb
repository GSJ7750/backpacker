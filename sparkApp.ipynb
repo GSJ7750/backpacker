{
 "cells": [
  {
   "cell_type": "code",
   "execution_count": 1,
   "id": "35f36caf-8e4e-47d5-9369-e5ff2e227384",
   "metadata": {},
   "outputs": [],
   "source": [
    "from pyspark.sql import SparkSession, DataFrame\n",
    "from pyspark.sql.functions import dayofmonth, to_date, count_distinct, hour,minute\n",
    "from pyspark.sql.types import *\n",
    "\n",
    "from pprint import pprint"
   ]
  },
  {
   "cell_type": "code",
   "execution_count": 17,
   "id": "08b76715-21de-4db4-9a63-c3392bfdb450",
   "metadata": {},
   "outputs": [],
   "source": [
    "spark = SparkSession.builder.master(\"local\").appName(\"SparkSQL\").getOrCreate()"
   ]
  },
  {
   "cell_type": "code",
   "execution_count": 18,
   "id": "c96fd1b6-9ba3-497d-ab64-7524fad6c199",
   "metadata": {},
   "outputs": [],
   "source": [
    "spark.sparkContext.setLogLevel(\"ERROR\")"
   ]
  },
  {
   "cell_type": "code",
   "execution_count": 19,
   "id": "92196675-c3eb-4d85-8883-9faa2f487ebe",
   "metadata": {},
   "outputs": [],
   "source": [
    "schema = StructType(\n",
    "    [\n",
    "        StructField('event_time', StringType()),\n",
    "        StructField('event_type', StringType()),\n",
    "        StructField('product_id', StringType()),\n",
    "        StructField('category_id', StringType()),\n",
    "        StructField('category_code', StringType()),\n",
    "        StructField('brand', StringType()),\n",
    "        StructField('price', StringType()),\n",
    "        StructField('user_id', StringType()),\n",
    "        StructField('user_session', StringType()),\n",
    "    ]\n",
    ")"
   ]
  },
  {
   "cell_type": "code",
   "execution_count": 73,
   "id": "0669fc25-35c4-497a-a2bc-b9fbbea928ae",
   "metadata": {},
   "outputs": [],
   "source": [
    "df = spark.read.option(\"header\",True).schema(schema).csv(\"./2019-Nov.csv\")#.limit(10000)"
   ]
  },
  {
   "cell_type": "code",
   "execution_count": 6,
   "id": "0100f0bc-4072-4724-950c-0ac7d44cff1a",
   "metadata": {},
   "outputs": [
    {
     "name": "stdout",
     "output_type": "stream",
     "text": [
      "+-----------------------+----------+----------+-------------------+--------------------------------+--------+------+---------+------------------------------------+\n",
      "|event_time             |event_type|product_id|category_id        |category_code                   |brand   |price |user_id  |user_session                        |\n",
      "+-----------------------+----------+----------+-------------------+--------------------------------+--------+------+---------+------------------------------------+\n",
      "|2019-11-01 00:00:00 UTC|view      |1003461   |2053013555631882655|electronics.smartphone          |xiaomi  |489.07|520088904|4d3b30da-a5e4-49df-b1a8-ba5943f1dd33|\n",
      "|2019-11-01 00:00:00 UTC|view      |5000088   |2053013566100866035|appliances.sewing_machine       |janome  |293.65|530496790|8e5f4f83-366c-4f70-860e-ca7417414283|\n",
      "|2019-11-01 00:00:01 UTC|view      |17302664  |2053013553853497655|null                            |creed   |28.31 |561587266|755422e7-9040-477b-9bd2-6a6e8fd97387|\n",
      "|2019-11-01 00:00:01 UTC|view      |3601530   |2053013563810775923|appliances.kitchen.washer       |lg      |712.87|518085591|3bfb58cd-7892-48cc-8020-2f17e6de6e7f|\n",
      "|2019-11-01 00:00:01 UTC|view      |1004775   |2053013555631882655|electronics.smartphone          |xiaomi  |183.27|558856683|313628f1-68b8-460d-84f6-cec7a8796ef2|\n",
      "|2019-11-01 00:00:01 UTC|view      |1306894   |2053013558920217191|computers.notebook              |hp      |360.09|520772685|816a59f3-f5ae-4ccd-9b23-82aa8c23d33c|\n",
      "|2019-11-01 00:00:01 UTC|view      |1306421   |2053013558920217191|computers.notebook              |hp      |514.56|514028527|df8184cc-3694-4549-8c8c-6b5171877376|\n",
      "|2019-11-01 00:00:02 UTC|view      |15900065  |2053013558190408249|null                            |rondell |30.86 |518574284|5e6ef132-4d7c-4730-8c7f-85aa4082588f|\n",
      "|2019-11-01 00:00:02 UTC|view      |12708937  |2053013553559896355|null                            |michelin|72.72 |532364121|0a899268-31eb-46de-898d-09b2da950b24|\n",
      "|2019-11-01 00:00:02 UTC|view      |1004258   |2053013555631882655|electronics.smartphone          |apple   |732.07|532647354|d2d3d2c6-631d-489e-9fb5-06f340b85be0|\n",
      "|2019-11-01 00:00:03 UTC|view      |17200570  |2053013559792632471|furniture.living_room.sofa      |null    |437.33|518780843|aa806835-b14c-45af-9538-cd4d1849be3e|\n",
      "|2019-11-01 00:00:03 UTC|view      |2701517   |2053013563911439225|appliances.kitchen.refrigerators|null    |155.11|518427361|c89b0d96-247f-4044-9c91-bb5f38c6af9b|\n",
      "|2019-11-01 00:00:03 UTC|view      |16700260  |2053013559901684381|furniture.kitchen.chair         |null    |31.64 |566255262|173d7b72-1db7-4638-8207-be8148bf3c9f|\n",
      "|2019-11-01 00:00:04 UTC|view      |34600011  |2060981320581906480|null                            |null    |20.54 |512416379|4dfe2c67-e537-4dc2-ae69-0b65263db091|\n",
      "|2019-11-01 00:00:05 UTC|view      |4600658   |2053013563944993659|appliances.kitchen.dishwasher   |samsung |411.83|526595547|aab33a9a-29c3-4d50-84c1-8a2bc9256104|\n",
      "|2019-11-01 00:00:06 UTC|view      |24900193  |2053013562183385881|null                            |null    |1.09  |512651494|f603c815-f51a-46fe-9404-cb586e35edaf|\n",
      "|2019-11-01 00:00:07 UTC|view      |27400066  |2053013563391345499|null                            |null    |8.55  |551061950|3f6112f1-5695-4e88-bb0a-49f9e36658ff|\n",
      "|2019-11-01 00:00:07 UTC|view      |5100503   |2053013553375346967|null                            |xiaomi  |22.68 |520037415|f54fa96a-f3f2-43ac-99a4-fcb2a449dd36|\n",
      "|2019-11-01 00:00:07 UTC|view      |1004566   |2053013555631882655|electronics.smartphone          |huawei  |164.84|566265908|52c2c76c-b79e-4794-86ff-badc76d35f5a|\n",
      "|2019-11-01 00:00:08 UTC|view      |1307115   |2053013558920217191|computers.notebook              |hp      |411.59|514028527|df8184cc-3694-4549-8c8c-6b5171877376|\n",
      "+-----------------------+----------+----------+-------------------+--------------------------------+--------+------+---------+------------------------------------+\n",
      "only showing top 20 rows\n",
      "\n"
     ]
    }
   ],
   "source": [
    "df.show(truncate=False)"
   ]
  },
  {
   "cell_type": "code",
   "execution_count": 7,
   "id": "2ecf9233-442f-4102-9b32-48788852ed90",
   "metadata": {},
   "outputs": [
    {
     "name": "stdout",
     "output_type": "stream",
     "text": [
      "root\n",
      " |-- event_time: string (nullable = true)\n",
      " |-- event_type: string (nullable = true)\n",
      " |-- product_id: string (nullable = true)\n",
      " |-- category_id: string (nullable = true)\n",
      " |-- category_code: string (nullable = true)\n",
      " |-- brand: string (nullable = true)\n",
      " |-- price: string (nullable = true)\n",
      " |-- user_id: string (nullable = true)\n",
      " |-- user_session: string (nullable = true)\n",
      "\n"
     ]
    }
   ],
   "source": [
    "df.printSchema()"
   ]
  },
  {
   "cell_type": "code",
   "execution_count": 8,
   "id": "595c1d62-1bfc-4fa9-98ae-58b5c9b05f09",
   "metadata": {},
   "outputs": [
    {
     "data": {
      "text/plain": [
       "[Row(event_time='2019-11-01 00:00:00 UTC', event_type='view', product_id='1003461', category_id='2053013555631882655', category_code='electronics.smartphone', brand='xiaomi', price='489.07', user_id='520088904', user_session='4d3b30da-a5e4-49df-b1a8-ba5943f1dd33'),\n",
       " Row(event_time='2019-11-01 00:00:00 UTC', event_type='view', product_id='5000088', category_id='2053013566100866035', category_code='appliances.sewing_machine', brand='janome', price='293.65', user_id='530496790', user_session='8e5f4f83-366c-4f70-860e-ca7417414283'),\n",
       " Row(event_time='2019-11-01 00:00:01 UTC', event_type='view', product_id='17302664', category_id='2053013553853497655', category_code=None, brand='creed', price='28.31', user_id='561587266', user_session='755422e7-9040-477b-9bd2-6a6e8fd97387'),\n",
       " Row(event_time='2019-11-01 00:00:01 UTC', event_type='view', product_id='3601530', category_id='2053013563810775923', category_code='appliances.kitchen.washer', brand='lg', price='712.87', user_id='518085591', user_session='3bfb58cd-7892-48cc-8020-2f17e6de6e7f'),\n",
       " Row(event_time='2019-11-01 00:00:01 UTC', event_type='view', product_id='1004775', category_id='2053013555631882655', category_code='electronics.smartphone', brand='xiaomi', price='183.27', user_id='558856683', user_session='313628f1-68b8-460d-84f6-cec7a8796ef2')]"
      ]
     },
     "execution_count": 8,
     "metadata": {},
     "output_type": "execute_result"
    }
   ],
   "source": [
    "df.head(5)"
   ]
  },
  {
   "cell_type": "code",
   "execution_count": null,
   "id": "fb407c2d-bc16-4fe1-820a-6e24b7a0e5a2",
   "metadata": {},
   "outputs": [
    {
     "name": "stderr",
     "output_type": "stream",
     "text": [
      "[Stage 16:===================================>                    (43 + 1) / 68]\r"
     ]
    }
   ],
   "source": [
    "df.tail(5)"
   ]
  },
  {
   "cell_type": "markdown",
   "id": "bea3ec8a-993b-4fa7-8ce5-34127ff78651",
   "metadata": {},
   "source": [
    "# 1. 해당 전체 기간에서, KST 기준으로 active user 수가 제일 큰 날짜를 구하세요"
   ]
  },
  {
   "cell_type": "code",
   "execution_count": 74,
   "id": "05afced8-dd64-4caa-9ace-875c2bd73436",
   "metadata": {},
   "outputs": [],
   "source": [
    "max_active = df.groupby(dayofmonth('event_time').alias('date')).agg(count_distinct('user_id').alias('u_count')).orderBy('u_count', ascending=False)"
   ]
  },
  {
   "cell_type": "code",
   "execution_count": 75,
   "id": "3ff3a5a8-76d1-4d44-89aa-e86b95fbdfa5",
   "metadata": {},
   "outputs": [
    {
     "name": "stderr",
     "output_type": "stream",
     "text": [
      "                                                                                \r"
     ]
    }
   ],
   "source": [
    "max_user = max_active.collect()"
   ]
  },
  {
   "cell_type": "code",
   "execution_count": 76,
   "id": "9dc680a4-a181-468e-a616-49b01ac58fc9",
   "metadata": {},
   "outputs": [
    {
     "data": {
      "text/plain": [
       "[Row(date=17, u_count=487501),\n",
       " Row(date=16, u_count=487327),\n",
       " Row(date=15, u_count=379786),\n",
       " Row(date=18, u_count=319537),\n",
       " Row(date=14, u_count=308842),\n",
       " Row(date=11, u_count=292400),\n",
       " Row(date=20, u_count=291900),\n",
       " Row(date=19, u_count=290798),\n",
       " Row(date=21, u_count=287079),\n",
       " Row(date=29, u_count=286699),\n",
       " Row(date=8, u_count=286053),\n",
       " Row(date=12, u_count=285994),\n",
       " Row(date=13, u_count=285408),\n",
       " Row(date=7, u_count=278988),\n",
       " Row(date=10, u_count=276198),\n",
       " Row(date=4, u_count=275612),\n",
       " Row(date=9, u_count=268643),\n",
       " Row(date=5, u_count=262338),\n",
       " Row(date=25, u_count=257613),\n",
       " Row(date=6, u_count=256887),\n",
       " Row(date=27, u_count=256546),\n",
       " Row(date=30, u_count=255497),\n",
       " Row(date=28, u_count=253979),\n",
       " Row(date=26, u_count=252527),\n",
       " Row(date=22, u_count=249401),\n",
       " Row(date=23, u_count=249362),\n",
       " Row(date=24, u_count=240526),\n",
       " Row(date=3, u_count=240187),\n",
       " Row(date=2, u_count=234685),\n",
       " Row(date=1, u_count=223108)]"
      ]
     },
     "execution_count": 76,
     "metadata": {},
     "output_type": "execute_result"
    }
   ],
   "source": [
    "max_user"
   ]
  },
  {
   "cell_type": "code",
   "execution_count": 77,
   "id": "be66f150-707f-4d97-905a-2976dc4c7cf6",
   "metadata": {},
   "outputs": [],
   "source": [
    "target_date = max_user[0].date"
   ]
  },
  {
   "cell_type": "code",
   "execution_count": 78,
   "id": "90a3df2d-b8b2-4eb9-ad41-9c2209f851c9",
   "metadata": {},
   "outputs": [
    {
     "data": {
      "text/plain": [
       "17"
      ]
     },
     "execution_count": 78,
     "metadata": {},
     "output_type": "execute_result"
    }
   ],
   "source": [
    "target_date"
   ]
  },
  {
   "cell_type": "markdown",
   "id": "19351099-4592-4070-b2a1-ffe210268c76",
   "metadata": {},
   "source": [
    "---"
   ]
  },
  {
   "cell_type": "markdown",
   "id": "768a6ea3-c1c7-4c75-94aa-c1e2e1977648",
   "metadata": {},
   "source": [
    "# 1의 날짜에서, 세션이 가장 긴 사용자 10명에 대해 \"user_id, session_id, 세션시간\"를 구하세요"
   ]
  },
  {
   "cell_type": "code",
   "execution_count": 79,
   "id": "5212462d-00e8-416a-8c90-2f6978bf019e",
   "metadata": {},
   "outputs": [],
   "source": [
    "tmp = df.filter(dayofmonth(df.event_time) == target_date).orderBy('user_session')"
   ]
  },
  {
   "cell_type": "code",
   "execution_count": 80,
   "id": "413b2a2d-a780-46a2-9bbf-0fe1f2e89d9b",
   "metadata": {},
   "outputs": [
    {
     "name": "stdout",
     "output_type": "stream",
     "text": [
      "root\n",
      " |-- event_time: string (nullable = true)\n",
      " |-- event_type: string (nullable = true)\n",
      " |-- product_id: string (nullable = true)\n",
      " |-- category_id: string (nullable = true)\n",
      " |-- category_code: string (nullable = true)\n",
      " |-- brand: string (nullable = true)\n",
      " |-- price: string (nullable = true)\n",
      " |-- user_id: string (nullable = true)\n",
      " |-- user_session: string (nullable = true)\n",
      "\n"
     ]
    }
   ],
   "source": [
    "tmp.printSchema()"
   ]
  },
  {
   "cell_type": "code",
   "execution_count": 81,
   "id": "1e65be13-440b-4859-9145-abfb65f67517",
   "metadata": {},
   "outputs": [],
   "source": [
    "spark.catalog.dropTempView('tmp')\n",
    "tmp.createTempView('tmp')"
   ]
  },
  {
   "cell_type": "code",
   "execution_count": 145,
   "id": "61046e22-6f23-4914-ac45-998acb6a1ad1",
   "metadata": {},
   "outputs": [
    {
     "name": "stderr",
     "output_type": "stream",
     "text": [
      "[Stage 201:======================================================>(67 + 1) / 68]\r"
     ]
    },
    {
     "name": "stdout",
     "output_type": "stream",
     "text": [
      "+-------+----+\n",
      "|user_id|last|\n",
      "+-------+----+\n",
      "+-------+----+\n",
      "\n"
     ]
    },
    {
     "name": "stderr",
     "output_type": "stream",
     "text": [
      "                                                                                \r"
     ]
    }
   ],
   "source": [
    "spark.sql(\"\"\"\n",
    "        select first(t.user_id) as user_id, last(user_id) as last\n",
    "        from tmp t\n",
    "        group by t.user_session\n",
    "        having last != user_id\n",
    "        \"\"\").show(truncate=False)\n",
    "#세션아이디가 같으면서 유저아이디가 다른 경우가 있는지 확인"
   ]
  },
  {
   "cell_type": "markdown",
   "id": "fdb7d282-6915-462e-a195-8a00a7062e44",
   "metadata": {},
   "source": [
    "\n",
    "spark.sql(\"\"\"\n",
    "        select t.user_session, min(t.event_time) as start, max(t.event_time) as end, bigint(to_timestamp(max(t.event_time)))-bigint(to_timestamp(min(t.event_time))) as keep, first(t.user_id) as user_id, last(user_id) as last\n",
    "        from tmp t\n",
    "        group by t.user_session\n",
    "        having last != user_id\n",
    "        order by keep desc\n",
    "        \n",
    "        \"\"\").show(truncate=False)"
   ]
  },
  {
   "cell_type": "code",
   "execution_count": null,
   "id": "c3466bde-e712-408f-bc5e-18fb15ae2a3a",
   "metadata": {},
   "outputs": [],
   "source": [
    "spark.sql(\"\"\"\n",
    "        select t.user_id, \n",
    "        from tmp t\n",
    "        group by t.user_id\n",
    "        limit 10\n",
    "        \"\"\").show(truncate=False)"
   ]
  },
  {
   "cell_type": "markdown",
   "id": "6149de26-aabc-4489-8008-154184943692",
   "metadata": {},
   "source": [
    "# 3. 1의 날짜의 15분단위로 active user 수를 구하세요"
   ]
  },
  {
   "cell_type": "code",
   "execution_count": 259,
   "id": "600a6b86-dccf-442e-a2bb-480225f6e3cd",
   "metadata": {},
   "outputs": [],
   "source": [
    "std = 1572566400"
   ]
  },
  {
   "cell_type": "markdown",
   "id": "e3dda6d2-91b6-462e-be24-6eeb48e0167e",
   "metadata": {},
   "source": [
    "spark.sql(\"\"\"\n",
    "        with RECURSIVE time as (\n",
    "            select 0 MINUTE\n",
    "            union\n",
    "            select MINUTE+15\n",
    "            from time\n",
    "        )\n",
    "        SELECT *, count(*) as 'COUNT'\n",
    "        FROM (\n",
    "            select minute(to_timestamp(event_time)) as MINUTE from tmp\n",
    "            union all\n",
    "            select MINUTE from time\n",
    "        ) as f\n",
    "        group by MINUTE\n",
    "        order by MINUTE\n",
    "        \"\"\").show(truncate=False)"
   ]
  },
  {
   "cell_type": "code",
   "execution_count": 28,
   "id": "8bfb9895-f9c7-4ff1-8936-adeccbcdb6a2",
   "metadata": {},
   "outputs": [
    {
     "name": "stderr",
     "output_type": "stream",
     "text": [
      "[Stage 6:===================================================>     (62 + 1) / 68]\r"
     ]
    },
    {
     "name": "stdout",
     "output_type": "stream",
     "text": [
      "+---+-----------------------+\n",
      "|m  |count(DISTINCT user_id)|\n",
      "+---+-----------------------+\n",
      "|0  |542                    |\n",
      "|15 |628                    |\n",
      "|30 |768                    |\n",
      "|45 |669                    |\n",
      "+---+-----------------------+\n",
      "\n"
     ]
    },
    {
     "name": "stderr",
     "output_type": "stream",
     "text": [
      "                                                                                \r"
     ]
    }
   ],
   "source": [
    "spark.sql(\"\"\"\n",
    "        SELECT floor((hour(event_time)*60 + minute(event_time))/15)*15 as m, count(distinct(user_id))\n",
    "        from tmp\n",
    "        group by floor((hour(event_time)*60 + minute(event_time))/15)\n",
    "        \"\"\").show(truncate=False)"
   ]
  },
  {
   "cell_type": "markdown",
   "id": "c13dd8fa-9ff2-4dc3-92e5-18d5dbaf4bda",
   "metadata": {},
   "source": [
    "query = \"\"\"concat( string( floor((floor((hour(event_time)*60 + minute(event_time))/15)*15)/60) ), \n",
    "                    \":\",\n",
    "                    string( mod( floor((hour(event_time)*60 + minute(event_time))/15)*15, 60)))\"\"\""
   ]
  },
  {
   "cell_type": "markdown",
   "id": "372f86d0-0978-4670-bada-cb96fcfbe466",
   "metadata": {},
   "source": [
    "query2 = \"\"\"concat( string( floor((floor((hour(event_time)*60 + minute(event_time))/15)*15+15)/60) ), \n",
    "                    \":\",\n",
    "                    string( mod( floor((hour(event_time)*60 + minute(event_time))/15)*15+15, 60)))\"\"\""
   ]
  },
  {
   "cell_type": "markdown",
   "id": "d4daf430-2bb6-4750-bfb1-8731fd8bdb12",
   "metadata": {},
   "source": [
    "---"
   ]
  },
  {
   "cell_type": "code",
   "execution_count": 92,
   "id": "022b74d6-47ec-4064-ab2e-b4851b880bf3",
   "metadata": {},
   "outputs": [],
   "source": [
    "start1 = \"string(floor((floor((hour(event_time)*60 + minute(event_time))/15)*15)/60))\""
   ]
  },
  {
   "cell_type": "code",
   "execution_count": 93,
   "id": "03e9150d-d9e2-460d-b1c6-05aa9a2475cc",
   "metadata": {},
   "outputs": [],
   "source": [
    "start2 = \"string(mod(floor((hour(event_time)*60 + minute(event_time))/15)*15, 60))\""
   ]
  },
  {
   "cell_type": "code",
   "execution_count": 94,
   "id": "763e99fa-be9f-4b88-ae40-6afe2d944a59",
   "metadata": {},
   "outputs": [],
   "source": [
    "query = f\"\"\"concat( if(length({start1})=2, \n",
    "                    {start1}, \n",
    "                    concat(0,{start1})), \n",
    "                    \n",
    "                    \":\",\n",
    "                    \n",
    "                    if(length({start2})=2,\n",
    "                    {start2},\n",
    "                    concat(0, {start2}))\n",
    "                )\"\"\""
   ]
  },
  {
   "cell_type": "code",
   "execution_count": 98,
   "id": "d0f71723-2470-42c4-b324-208e0f48c9ec",
   "metadata": {},
   "outputs": [],
   "source": [
    "end1 = \"string(floor((floor((hour(event_time)*60 + minute(event_time))/15)*15+15)/60))\""
   ]
  },
  {
   "cell_type": "code",
   "execution_count": 101,
   "id": "7921d4e3-4bea-43e0-8e26-a063dfc58695",
   "metadata": {},
   "outputs": [],
   "source": [
    "end2 = \"string(mod(floor((hour(event_time)*60 + minute(event_time))/15)*15+15, 60))\""
   ]
  },
  {
   "cell_type": "code",
   "execution_count": 102,
   "id": "982dcf30-454d-4fc2-a9b4-4b3c4fd4d286",
   "metadata": {},
   "outputs": [],
   "source": [
    "query2 = f\"\"\"concat( if(length({end1})=2, \n",
    "                    {end1}, \n",
    "                    concat(0,{end1})), \n",
    "                    \n",
    "                    \":\",\n",
    "                    \n",
    "                    if(length({end2})=2,\n",
    "                    {end2},\n",
    "                    concat(0, {end2})\n",
    "                    )\n",
    "                )\"\"\""
   ]
  },
  {
   "cell_type": "code",
   "execution_count": 103,
   "id": "f3172c14-d270-40d9-9f3e-f7b6e704c3f1",
   "metadata": {},
   "outputs": [
    {
     "name": "stderr",
     "output_type": "stream",
     "text": [
      "[Stage 78:>                                                         (0 + 1) / 1]\r"
     ]
    },
    {
     "name": "stdout",
     "output_type": "stream",
     "text": [
      "+-----+-----+-----------------------+\n",
      "|start|end  |count(DISTINCT user_id)|\n",
      "+-----+-----+-----------------------+\n",
      "|00:00|00:15|1195                   |\n",
      "|00:15|00:30|1302                   |\n",
      "|00:30|00:45|1409                   |\n",
      "|00:45|01:00|1559                   |\n",
      "|01:00|01:15|1867                   |\n",
      "|01:15|01:30|2218                   |\n",
      "|01:30|01:45|2759                   |\n",
      "|01:45|02:00|1853                   |\n",
      "|02:00|02:15|2816                   |\n",
      "|02:15|02:30|5012                   |\n",
      "|02:30|02:45|6316                   |\n",
      "|02:45|03:00|7390                   |\n",
      "|03:00|03:15|8662                   |\n",
      "|03:15|03:30|9896                   |\n",
      "|03:30|03:45|11422                  |\n",
      "|03:45|04:00|12621                  |\n",
      "|04:00|04:15|13958                  |\n",
      "|04:15|04:30|15367                  |\n",
      "|04:30|04:45|16570                  |\n",
      "|04:45|05:00|17640                  |\n",
      "|05:00|05:15|18104                  |\n",
      "|05:15|05:30|19420                  |\n",
      "|05:30|05:45|20132                  |\n",
      "|05:45|06:00|20670                  |\n",
      "|06:00|06:15|20012                  |\n",
      "|06:15|06:30|21134                  |\n",
      "|06:30|06:45|21221                  |\n",
      "|06:45|07:00|20840                  |\n",
      "|07:00|07:15|19900                  |\n",
      "|07:15|07:30|20254                  |\n",
      "|07:30|07:45|20425                  |\n",
      "|07:45|08:00|20337                  |\n",
      "|08:00|08:15|20294                  |\n",
      "|08:15|08:30|20156                  |\n",
      "|08:30|08:45|21005                  |\n",
      "|08:45|09:00|21067                  |\n",
      "|09:00|09:15|19534                  |\n",
      "|09:15|09:30|20585                  |\n",
      "|09:30|09:45|20535                  |\n",
      "|09:45|10:00|20664                  |\n",
      "|10:00|10:15|20085                  |\n",
      "|10:15|10:30|21254                  |\n",
      "|10:30|10:45|21762                  |\n",
      "|10:45|11:00|22092                  |\n",
      "|11:00|11:15|22158                  |\n",
      "|11:15|11:30|21880                  |\n",
      "|11:30|11:45|21950                  |\n",
      "|11:45|12:00|22156                  |\n",
      "|12:00|12:15|22328                  |\n",
      "|12:15|12:30|22738                  |\n",
      "|12:30|12:45|22783                  |\n",
      "|12:45|13:00|22433                  |\n",
      "|13:00|13:15|21747                  |\n",
      "|13:15|13:30|21247                  |\n",
      "|13:30|13:45|21585                  |\n",
      "|13:45|14:00|21906                  |\n",
      "|14:00|14:15|21609                  |\n",
      "|14:15|14:30|21676                  |\n",
      "|14:30|14:45|21796                  |\n",
      "|14:45|15:00|21911                  |\n",
      "|15:00|15:15|21381                  |\n",
      "|15:15|15:30|21310                  |\n",
      "|15:30|15:45|21099                  |\n",
      "|15:45|16:00|18084                  |\n",
      "|16:00|16:15|17476                  |\n",
      "|16:15|16:30|17541                  |\n",
      "|16:30|16:45|16956                  |\n",
      "|16:45|17:00|16454                  |\n",
      "|17:00|17:15|16315                  |\n",
      "|17:15|17:30|16147                  |\n",
      "|17:30|17:45|16120                  |\n",
      "|17:45|18:00|14657                  |\n",
      "|18:00|18:15|1801                   |\n",
      "|18:15|18:30|80                     |\n",
      "|18:30|18:45|4195                   |\n",
      "|18:45|19:00|6525                   |\n",
      "|19:00|19:15|5883                   |\n",
      "|19:15|19:30|5032                   |\n",
      "|19:30|19:45|4256                   |\n",
      "|19:45|20:00|3629                   |\n",
      "|20:00|20:15|3135                   |\n",
      "|20:15|20:30|2594                   |\n",
      "|20:30|20:45|2261                   |\n",
      "|20:45|21:00|1812                   |\n",
      "|21:00|21:15|1541                   |\n",
      "|21:15|21:30|1346                   |\n",
      "|21:30|21:45|1150                   |\n",
      "|21:45|22:00|1012                   |\n",
      "|22:00|22:15|860                    |\n",
      "|22:15|22:30|778                    |\n",
      "|22:30|22:45|721                    |\n",
      "|22:45|23:00|621                    |\n",
      "|23:00|23:15|629                    |\n",
      "|23:15|23:30|618                    |\n",
      "|23:30|23:45|627                    |\n",
      "|23:45|24:00|657                    |\n",
      "+-----+-----+-----------------------+\n",
      "\n"
     ]
    },
    {
     "name": "stderr",
     "output_type": "stream",
     "text": [
      "                                                                                \r"
     ]
    }
   ],
   "source": [
    "spark.sql(f\"\"\"\n",
    "        SELECT {query} as start, {query2} as end, count(distinct(user_id))\n",
    "        from tmp\n",
    "        group by floor((hour(event_time)*60 + minute(event_time))/15)\n",
    "        order by start\n",
    "        \"\"\").show(200, truncate=False)"
   ]
  },
  {
   "cell_type": "code",
   "execution_count": 334,
   "id": "4657cd00-c0b7-4c68-8d96-30e59ad7f2d0",
   "metadata": {},
   "outputs": [
    {
     "name": "stderr",
     "output_type": "stream",
     "text": [
      "[Stage 484:===============================================>       (59 + 1) / 68]\r"
     ]
    },
    {
     "name": "stdout",
     "output_type": "stream",
     "text": [
      "+----------------------------------------------------+-----------------------------------------------------------+-----------------------+\n",
      "|(FLOOR(((to_timestamp(event_time) / 60) / 15)) * 15)|((FLOOR(((to_timestamp(event_time) / 60) / 15)) * 15) - 15)|count(DISTINCT user_id)|\n",
      "+----------------------------------------------------+-----------------------------------------------------------+-----------------------+\n",
      "|26209440                                            |26209425                                                   |542                    |\n",
      "|26209455                                            |26209440                                                   |628                    |\n",
      "|26209470                                            |26209455                                                   |768                    |\n",
      "|26209485                                            |26209470                                                   |669                    |\n",
      "+----------------------------------------------------+-----------------------------------------------------------+-----------------------+\n",
      "\n"
     ]
    },
    {
     "name": "stderr",
     "output_type": "stream",
     "text": [
      "                                                                                \r"
     ]
    }
   ],
   "source": [
    "spark.sql(\"\"\"\n",
    "        SELECT floor(bigint(to_timestamp(event_time))/60/15)*15, floor(bigint(to_timestamp(event_time))/60/15)*15-15, count(distinct(user_id))\n",
    "        from tmp\n",
    "        group by floor(bigint(to_timestamp(event_time))/60/15)*15\n",
    "        \"\"\").show(truncate=False)"
   ]
  },
  {
   "cell_type": "code",
   "execution_count": null,
   "id": "bbc6eba5-d1f0-46f2-943b-8d7f6745a194",
   "metadata": {},
   "outputs": [],
   "source": []
  }
 ],
 "metadata": {
  "kernelspec": {
   "display_name": "Python 3 (ipykernel)",
   "language": "python",
   "name": "python3"
  },
  "language_info": {
   "codemirror_mode": {
    "name": "ipython",
    "version": 3
   },
   "file_extension": ".py",
   "mimetype": "text/x-python",
   "name": "python",
   "nbconvert_exporter": "python",
   "pygments_lexer": "ipython3",
   "version": "3.9.7"
  }
 },
 "nbformat": 4,
 "nbformat_minor": 5
}
